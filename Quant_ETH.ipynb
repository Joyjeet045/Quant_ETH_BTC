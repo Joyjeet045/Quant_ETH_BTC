{
  "nbformat": 4,
  "nbformat_minor": 0,
  "metadata": {
    "colab": {
      "provenance": []
    },
    "kernelspec": {
      "name": "python3",
      "display_name": "Python 3"
    },
    "language_info": {
      "name": "python"
    }
  },
  "cells": [
    {
      "cell_type": "code",
      "execution_count": null,
      "metadata": {
        "id": "BZQ78PNq-usC"
      },
      "outputs": [],
      "source": [
        "import pandas as pd\n",
        "import numpy as np\n",
        "import yfinance as yf\n",
        "import warnings\n",
        "import plotly.graph_objects as go\n",
        "\n",
        "warnings.filterwarnings('ignore')\n",
        "\n",
        "def calculate_atr(df, period=14):\n",
        "    high_low = df['High'] - df['Low']\n",
        "    high_close = np.abs(df['High'] - df['Close'].shift(1))\n",
        "    low_close = np.abs(df['Low'] - df['Close'].shift(1))\n",
        "    tr = np.maximum.reduce([high_low, high_close, low_close])\n",
        "    tr = pd.Series(tr, index=df.index)\n",
        "    atr = tr.rolling(window=period).mean()\n",
        "    df['ATR'] = atr\n",
        "    return df\n",
        "\n",
        "def calculate_aroon(df, period=14):\n",
        "    df['Aroon Up'] = 100 * df['High'].rolling(window=period).apply(lambda x: (x.idxmax() - x.index[0]).days / period, raw=False)\n",
        "    df['Aroon Down'] = 100 * df['Low'].rolling(window=period).apply(lambda x: (x.idxmin() - x.index[0]).days / period, raw=False)\n",
        "    return df\n",
        "\n",
        "def chaikin_volatility(df, period=14):\n",
        "    df['ADL'] = ((2 * df['Close'] - df['High'] - df['Low']) / (df['High'] - df['Low'])) * df['Volume']\n",
        "    df['ADL'] = df['ADL'].cumsum()\n",
        "\n",
        "    df['CV'] = df['ADL'].ewm(span=13, adjust=False).mean() - df['ADL'].rolling(window=period).mean()\n",
        "    return df\n",
        "\n",
        "def calculate_cv_spike(df, period=14, threshold_percentile=98):\n",
        "    df = chaikin_volatility(df, period)\n",
        "    rolling_percentile = df['CV'].rolling(window=period).apply(\n",
        "        lambda x: np.percentile(x, threshold_percentile), raw=False)\n",
        "\n",
        "    df['CV Spike'] = df['CV'] > rolling_percentile\n",
        "    return df\n",
        "\n",
        "\n",
        "def calculate_dpo(df, period=14):\n",
        "    sma_values = df['Close'].rolling(window=period).mean()\n",
        "    dpo_values = df['Close'] - sma_values\n",
        "    df['DPO'] = dpo_values\n",
        "    return df\n",
        "\n",
        "def calculate_psar(df, af=0.02, max_af=0.2):\n",
        "    df['PSAR'] = np.nan\n",
        "    df['Trend'] = np.nan\n",
        "\n",
        "    psar = df['Low'][0]\n",
        "    ep = df['High'][0]\n",
        "    af = af\n",
        "    is_uptrend = True\n",
        "\n",
        "    psar_values = []\n",
        "    trend = []\n",
        "\n",
        "    for i in range(len(df)):\n",
        "        psar = psar + af * (ep - psar)\n",
        "        if is_uptrend:\n",
        "            if df['High'][i] > ep:\n",
        "                ep = df['High'][i]\n",
        "                af = min(af + 0.02, max_af)\n",
        "            if df['Low'][i] < psar:\n",
        "                is_uptrend = False\n",
        "                psar = ep\n",
        "                ep = df['Low'][i]\n",
        "                af = 0.02\n",
        "        else:\n",
        "            if df['Low'][i] < ep:\n",
        "                ep = df['Low'][i]\n",
        "                af = min(af + 0.02, max_af)\n",
        "            if df['High'][i] > psar:\n",
        "                is_uptrend = True\n",
        "                psar = ep\n",
        "                ep = df['High'][i]\n",
        "                af = 0.02\n",
        "\n",
        "        psar_values.append(psar)\n",
        "        trend.append(1 if is_uptrend else -1)\n",
        "\n",
        "    df['PSAR'] = psar_values\n",
        "    df['Trend'] = trend\n",
        "    return df"
      ]
    },
    {
      "cell_type": "code",
      "source": [
        "!pip install plotly\n"
      ],
      "metadata": {
        "id": "e6nrY1stDSA-",
        "colab": {
          "base_uri": "https://localhost:8080/"
        },
        "outputId": "61ee7dd9-69be-405d-e267-df7fa604893f"
      },
      "execution_count": null,
      "outputs": [
        {
          "output_type": "stream",
          "name": "stdout",
          "text": [
            "Requirement already satisfied: plotly in /usr/local/lib/python3.10/dist-packages (5.24.1)\n",
            "Requirement already satisfied: tenacity>=6.2.0 in /usr/local/lib/python3.10/dist-packages (from plotly) (9.0.0)\n",
            "Requirement already satisfied: packaging in /usr/local/lib/python3.10/dist-packages (from plotly) (24.2)\n"
          ]
        }
      ]
    },
    {
      "cell_type": "code",
      "source": [
        "def dynamic_atr_multiplier(df, atr_period=14, volatility_lookback=50):\n",
        "    recent_atr = df['ATR'].tail(volatility_lookback)\n",
        "    atr_mean = recent_atr.mean()\n",
        "    atr_std = recent_atr.std()\n",
        "    current_atr = df['ATR'].iloc[-1]\n",
        "\n",
        "    volatility_z_score = (current_atr - atr_mean) / atr_std if atr_std != 0 else 0\n",
        "\n",
        "    if volatility_z_score > 2:\n",
        "        return 8.0\n",
        "    elif volatility_z_score > 1:\n",
        "        return 6.0\n",
        "    elif volatility_z_score < -1:\n",
        "        return 3.0\n",
        "    else:\n",
        "        return 5.0"
      ],
      "metadata": {
        "id": "L3gUdIB9TuwI"
      },
      "execution_count": null,
      "outputs": []
    },
    {
      "cell_type": "code",
      "source": [
        "def chaikin_long_short_strategy(df, dpo_threshold=-10):\n",
        "    df = calculate_psar(df)\n",
        "    df = calculate_cv_spike(df)\n",
        "    df = calculate_atr(df)\n",
        "    df = calculate_dpo(df)\n",
        "    df= calculate_aroon(df)\n",
        "    signals = []\n",
        "    current_position = None\n",
        "    entry_price = None\n",
        "\n",
        "    taken = 0\n",
        "    for i in range(len(df)):\n",
        "        dynamic_mult= dynamic_atr_multiplier(df)\n",
        "        taken = 0\n",
        "        if pd.isna(df['CV Spike'][i]) or pd.isna(df['PSAR'][i]) or pd.isna(df['DPO'][i]):\n",
        "            signals.append(0)\n",
        "            continue\n",
        "\n",
        "        # Entry Conditions\n",
        "\n",
        "        # DPO is used to identify bearish signals only - strong downtrends only entering short\n",
        "\n",
        "        short_conditions = (\n",
        "            # 1. DPO crosses below zero\n",
        "            (df['DPO'].shift(1) >=dpo_threshold) &\n",
        "            (df['DPO'] < dpo_threshold)\n",
        "        ).any()\n",
        "\n",
        "        short_momentum =(\n",
        "            # 2. Negative trend change in DPO\n",
        "            (df['DPO'].shift(2) < df['DPO'].shift(1)) &\n",
        "            (df['DPO'].shift(1) >= df['DPO'])\n",
        "        ).any()\n",
        "\n",
        "        if df['CV Spike'][i] == 1 and current_position is None:\n",
        "            if df['Trend'][i] == 1 and df['PSAR'][i] < df['Close'][i]:\n",
        "                signals.append(2)\n",
        "                entry_price = df['Close'][i]\n",
        "                taken = 1\n",
        "                current_position='Long'\n",
        "            else:\n",
        "              if (df['Trend'][i] == -1 and df['PSAR'][i] > df['Close'][i] and short_conditions and short_momentum) or \\\n",
        "               (df['Close'][i] < df['Low'].shift(1).rolling(window=5).min().iloc[i] and df['Aroon Down'][i] > 50):\n",
        "                signals.append(1)\n",
        "                entry_price = df['Close'][i]\n",
        "                taken = 1\n",
        "                current_position='Short'\n",
        "\n",
        "        # Exit Conditions\n",
        "        if entry_price is not None:\n",
        "            if current_position == 'Long':\n",
        "                if (df['PSAR'][i] > df['Close'][i]) or (df['Close'][i] < entry_price - df['ATR'][i] * dynamic_mult):\n",
        "                  if taken:\n",
        "                    signals[-1] = -2\n",
        "                  else:\n",
        "                      signals.append(-2)\n",
        "                  entry_price = None\n",
        "                  current_position = None\n",
        "                elif not taken:\n",
        "                  signals.append(0)\n",
        "\n",
        "            elif current_position == 'Short':\n",
        "                if (df['PSAR'][i] < df['Close'][i]) or (df['Close'][i] > entry_price + df['ATR'][i] * dynamic_mult / 2) or \\\n",
        "                  (df['Close'][i] > df['High'].shift(1).rolling(window=5).max().iloc[i]):\n",
        "                    if taken:\n",
        "                      signals[-1] = -1\n",
        "                    else:\n",
        "                      signals.append(-1)\n",
        "                    entry_price = None\n",
        "                    current_position = None\n",
        "                elif not taken:\n",
        "                  signals.append(0)\n",
        "\n",
        "        else:\n",
        "            signals.append(0)\n",
        "\n",
        "    return signals"
      ],
      "metadata": {
        "id": "1CPAcFpQNh6o"
      },
      "execution_count": null,
      "outputs": []
    },
    {
      "cell_type": "code",
      "source": [
        "def prepare_data(symbol):\n",
        "    data = yf.download(symbol, start='2020-01-01', end='2022-12-31', interval='5d')\n",
        "    data.columns = data.columns.droplevel(1)\n",
        "    return data\n",
        "\n",
        "eth_data = prepare_data('ETH-USD')"
      ],
      "metadata": {
        "colab": {
          "base_uri": "https://localhost:8080/"
        },
        "id": "Ek_yYd957v73",
        "outputId": "04557fd8-2768-46f9-bff7-6fbdf51cae82"
      },
      "execution_count": null,
      "outputs": [
        {
          "output_type": "stream",
          "name": "stderr",
          "text": [
            "\r[*********************100%***********************]  1 of 1 completed\n"
          ]
        }
      ]
    },
    {
      "cell_type": "code",
      "source": [
        "signals=chaikin_long_short_strategy(eth_data)"
      ],
      "metadata": {
        "id": "nLhdeD9G8PYS"
      },
      "execution_count": null,
      "outputs": []
    },
    {
      "cell_type": "code",
      "source": [
        "def calculate_performance_metrics(df, signals, initial_capital=10000):\n",
        "    \"\"\"\n",
        "    Calculate comprehensive trading strategy performance metrics\n",
        "    \"\"\"\n",
        "    if len(signals) != len(df):\n",
        "        raise ValueError(\"Signals length must match DataFrame length\")\n",
        "\n",
        "    df['Signal'] = signals\n",
        "\n",
        "    trades = []\n",
        "    current_trade = None\n",
        "\n",
        "    portfolio_values = [initial_capital]\n",
        "    current_capital = initial_capital\n",
        "\n",
        "    peak_capital = initial_capital\n",
        "    max_drawdown = 0\n",
        "    max_adverse_excursion = 0\n",
        "\n",
        "    for i in range(len(df)):\n",
        "        if df['Signal'].iloc[i] == 2:\n",
        "            if current_trade is None:\n",
        "                current_trade = {\n",
        "                    'type': 'long',\n",
        "                    'entry_price': df['Close'].iloc[i],\n",
        "                    'entry_date': df.index[i],\n",
        "                    'entry_signal_index': i\n",
        "                }\n",
        "\n",
        "        elif df['Signal'].iloc[i] == 1:\n",
        "            if current_trade is None:\n",
        "                current_trade = {\n",
        "                    'type': 'short',\n",
        "                    'entry_price': df['Close'].iloc[i],\n",
        "                    'entry_date': df.index[i],\n",
        "                    'entry_signal_index': i\n",
        "                }\n",
        "\n",
        "        elif df['Signal'].iloc[i] == -2 and current_trade and current_trade['type'] == 'long':\n",
        "            exit_price = df['Close'].iloc[i]\n",
        "            trade_return = (exit_price - current_trade['entry_price']) / current_trade['entry_price']\n",
        "\n",
        "            # Received capital\n",
        "            trade_capital = current_capital * (1 + trade_return)\n",
        "\n",
        "            current_trade['exit_price'] = exit_price\n",
        "            current_trade['exit_date'] = df.index[i]\n",
        "            current_trade['return'] = trade_return\n",
        "            trades.append(current_trade)\n",
        "\n",
        "            # Update current capital and reset trade\n",
        "            current_capital = trade_capital\n",
        "            current_trade = None\n",
        "\n",
        "        elif df['Signal'].iloc[i] == -1 and current_trade and current_trade['type'] == 'short':\n",
        "            exit_price = df['Close'].iloc[i]\n",
        "            trade_return = (current_trade['entry_price'] - exit_price) / current_trade['entry_price']\n",
        "\n",
        "            # Received capital\n",
        "            trade_capital = current_capital * (1 + trade_return)\n",
        "\n",
        "            current_trade['exit_price'] = exit_price\n",
        "            current_trade['exit_date'] = df.index[i]\n",
        "            current_trade['return'] = trade_return\n",
        "            trades.append(current_trade)\n",
        "\n",
        "            current_capital = trade_capital\n",
        "            current_trade = None\n",
        "\n",
        "        portfolio_values.append(current_capital)\n",
        "\n",
        "        if current_capital > peak_capital:\n",
        "            peak_capital = current_capital\n",
        "\n",
        "        current_drawdown = (peak_capital - current_capital) / peak_capital\n",
        "        max_drawdown = max(max_drawdown, current_drawdown)\n",
        "\n",
        "    trades_df = pd.DataFrame(trades)\n",
        "\n",
        "    metrics = {\n",
        "        'Total Trades': len(trades),\n",
        "        'Win Rate (%)': calculate_win_rate(trades_df),\n",
        "        'Net Profit (%) (Compounded)': calculate_net_profit(initial_capital, current_capital),\n",
        "        'Sharpe Ratio': calculate_sharpe_ratio(np.diff(portfolio_values)),\n",
        "        'Sortino Ratio': calculate_sortino_ratio(np.diff(portfolio_values)),\n",
        "        'Risk-Reward Ratio': calculate_risk_reward_ratio(trades_df),\n",
        "        'Max Drawdown (%)': max_drawdown * 100,\n",
        "        'Max Adverse Excursion (%)': calculate_max_adverse_excursion(trades_df),\n",
        "        'Max Trade Duration (days)': calculate_max_trade_duration(trades_df),\n",
        "        'Average Trade Duration (days)': calculate_avg_trade_duration(trades_df),\n",
        "    }\n",
        "\n",
        "    return metrics\n",
        "\n",
        "def calculate_win_rate(trades_df):\n",
        "    wins = trades_df[trades_df['return'] > 0].shape[0]\n",
        "    return (wins / len(trades_df)) * 100 if len(trades_df) > 0 else 0\n",
        "\n",
        "def calculate_net_profit(initial_capital, final_capital):\n",
        "    return (final_capital - initial_capital) / initial_capital * 100\n",
        "\n",
        "def calculate_sharpe_ratio(daily_returns):\n",
        "    mean_return = np.mean(daily_returns)\n",
        "    std_dev = np.std(daily_returns)\n",
        "    return mean_return / std_dev if std_dev != 0 else 0\n",
        "\n",
        "def calculate_sortino_ratio(daily_returns):\n",
        "    downside_returns = [r for r in daily_returns if r < 0]\n",
        "    downside_deviation = np.std(downside_returns)\n",
        "    mean_return = np.mean(daily_returns)\n",
        "    return mean_return / downside_deviation if downside_deviation != 0 else 0\n",
        "\n",
        "def calculate_risk_reward_ratio(trades_df):\n",
        "    avg_win = np.mean(trades_df[trades_df['return'] > 0]['return'])\n",
        "    avg_loss = np.mean(trades_df[trades_df['return'] < 0]['return'])\n",
        "    return avg_win / abs(avg_loss) if avg_loss != 0 else 0\n",
        "\n",
        "def calculate_max_adverse_excursion(trades_df):\n",
        "    return np.min(trades_df['return']) if len(trades_df) > 0 else 0\n",
        "\n",
        "def calculate_max_trade_duration(trades_df):\n",
        "    return (trades_df['exit_date'] - trades_df['entry_date']).max().days if len(trades_df) > 0 else 0\n",
        "\n",
        "def calculate_avg_trade_duration(trades_df):\n",
        "    return (trades_df['exit_date'] - trades_df['entry_date']).mean().days if len(trades_df) > 0 else 0\n"
      ],
      "metadata": {
        "id": "w-NSpF3y-okG"
      },
      "execution_count": null,
      "outputs": []
    },
    {
      "cell_type": "code",
      "source": [
        "print(len(signals))\n",
        "print(len(eth_data))"
      ],
      "metadata": {
        "colab": {
          "base_uri": "https://localhost:8080/"
        },
        "id": "5akbDmGn8Euc",
        "outputId": "00670ae8-4999-404d-ee29-2f7fa2e70377"
      },
      "execution_count": null,
      "outputs": [
        {
          "output_type": "stream",
          "name": "stdout",
          "text": [
            "219\n",
            "219\n"
          ]
        }
      ]
    },
    {
      "cell_type": "code",
      "source": [
        "def plot_heikin_ashi_with_signals(eth_data, signals):\n",
        "    heikin_ashi = eth_data.copy()\n",
        "    heikin_ashi['HA-Close'] = (eth_data['Open'] + eth_data['High'] + eth_data['Low'] + eth_data['Close']) / 4\n",
        "    heikin_ashi['HA-Open'] = (eth_data['Open'] + eth_data['Close']) / 2\n",
        "    for i in range(1, len(heikin_ashi)):\n",
        "        heikin_ashi['HA-Open'].iloc[i] = (heikin_ashi['HA-Open'].iloc[i - 1] + heikin_ashi['HA-Close'].iloc[i - 1]) / 2\n",
        "    heikin_ashi['HA-High'] = heikin_ashi[['High', 'HA-Open', 'HA-Close']].max(axis=1)\n",
        "    heikin_ashi['HA-Low'] = heikin_ashi[['Low', 'HA-Open', 'HA-Close']].min(axis=1)\n",
        "\n",
        "    signal_dates = heikin_ashi.index[:len(signals)]\n",
        "\n",
        "    long_entry_signals = [i for i, signal in enumerate(signals) if signal == 2]\n",
        "    long_exit_signals = [i for i, signal in enumerate(signals) if signal == -2]\n",
        "    short_signals = [i for i, signal in enumerate(signals) if signal == 1]\n",
        "    short_exit_signals = [i for i, signal in enumerate(signals) if signal == -1]\n",
        "\n",
        "    fig = go.Figure(data=[\n",
        "        go.Candlestick(\n",
        "            x=heikin_ashi.index,\n",
        "            open=heikin_ashi['HA-Open'],\n",
        "            high=heikin_ashi['HA-High'],\n",
        "            low=heikin_ashi['HA-Low'],\n",
        "            close=heikin_ashi['HA-Close'],\n",
        "            increasing_line_color='green',\n",
        "            decreasing_line_color='red'\n",
        "        )\n",
        "    ])\n",
        "\n",
        "    fig.add_trace(go.Scatter(\n",
        "        x=heikin_ashi.index[long_entry_signals],\n",
        "        y=heikin_ashi['HA-Close'].iloc[long_entry_signals],\n",
        "        mode='markers',\n",
        "        marker=dict(color='darkblue', size=12, symbol='triangle-up'),\n",
        "        name='Long Entry Signal'\n",
        "    ))\n",
        "\n",
        "    fig.add_trace(go.Scatter(\n",
        "        x=heikin_ashi.index[long_exit_signals],\n",
        "        y=heikin_ashi['HA-Close'].iloc[long_exit_signals],\n",
        "        mode='markers',\n",
        "        marker=dict(color='darkred', size=12, symbol='triangle-down'),\n",
        "        name='Long Exit Signal'\n",
        "    ))\n",
        "\n",
        "    fig.add_trace(go.Scatter(\n",
        "        x=heikin_ashi.index[short_signals],\n",
        "        y=heikin_ashi['HA-Close'].iloc[short_signals],\n",
        "        mode='markers',\n",
        "        marker=dict(color='darkorange', size=12, symbol='triangle-left'),\n",
        "        name='Short Signal'\n",
        "    ))\n",
        "\n",
        "    fig.add_trace(go.Scatter(\n",
        "        x=heikin_ashi.index[short_exit_signals],\n",
        "        y=heikin_ashi['HA-Close'].iloc[short_exit_signals],\n",
        "        mode='markers',\n",
        "        marker=dict(color='purple', size=12, symbol='triangle-right'),\n",
        "        name='Short Exit Signal'\n",
        "    ))\n",
        "\n",
        "    fig.update_layout(\n",
        "        title='Ethereum (ETH-USD) Heikin-Ashi Candlestick Chart with Trade Signals',\n",
        "        xaxis_title='Date',\n",
        "        yaxis_title='Price (USD)',\n",
        "        xaxis_rangeslider_visible=False\n",
        "    )\n",
        "\n",
        "    fig.show()\n"
      ],
      "metadata": {
        "id": "a8KOrthC55iN"
      },
      "execution_count": null,
      "outputs": []
    },
    {
      "cell_type": "code",
      "source": [
        "plot_heikin_ashi_with_signals(eth_data,signals)"
      ],
      "metadata": {
        "colab": {
          "base_uri": "https://localhost:8080/",
          "height": 542
        },
        "id": "AZaFAACQ7tyN",
        "outputId": "ba78f26c-d7d1-496f-d54f-a8004fbbab11"
      },
      "execution_count": null,
      "outputs": [
        {
          "output_type": "display_data",
          "data": {
            "text/html": [
              "<html>\n",
              "<head><meta charset=\"utf-8\" /></head>\n",
              "<body>\n",
              "    <div>            <script src=\"https://cdnjs.cloudflare.com/ajax/libs/mathjax/2.7.5/MathJax.js?config=TeX-AMS-MML_SVG\"></script><script type=\"text/javascript\">if (window.MathJax && window.MathJax.Hub && window.MathJax.Hub.Config) {window.MathJax.Hub.Config({SVG: {font: \"STIX-Web\"}});}</script>                <script type=\"text/javascript\">window.PlotlyConfig = {MathJaxConfig: 'local'};</script>\n",
              "        <script charset=\"utf-8\" src=\"https://cdn.plot.ly/plotly-2.35.2.min.js\"></script>                <div id=\"206b6aba-914d-4659-9939-2173ecc18de9\" class=\"plotly-graph-div\" style=\"height:525px; width:100%;\"></div>            <script type=\"text/javascript\">                                    window.PLOTLYENV=window.PLOTLYENV || {};                                    if (document.getElementById(\"206b6aba-914d-4659-9939-2173ecc18de9\")) {                    Plotly.newPlot(                        \"206b6aba-914d-4659-9939-2173ecc18de9\",                        [{\"close\":[130.6165771484375,140.25437927246094,143.7562713623047,164.37290573120117,168.12186431884766,164.4388427734375,181.64993286132812,197.2715072631836,224.83412551879883,275.1733093261719,258.10399627685547,256.3478660583496,219.8829002380371,236.2480697631836,195.73825454711914,116.44238662719727,132.26416015625,137.06720733642578,133.08538055419922,144.2595672607422,163.7764892578125,156.09162521362305,177.54555130004883,192.49365234375,214.61944961547852,207.64928817749023,198.6037826538086,198.97503280639648,211.55890655517578,203.5828514099121,231.43760299682617,242.80648803710938,245.44186401367188,236.2856330871582,229.51063919067383,240.31853866577148,226.42862701416016,227.38751220703125,244.23864364624023,239.99676895141602,236.59656143188477,277.3426818847656,318.0591583251953,380.8180847167969,386.21900939941406,408.04884338378906,426.39833068847656,392.119384765625,389.38392639160156,455.45984649658203,347.64749908447266,379.28978729248047,378.3954391479492,342.42071533203125,356.0542221069336,347.4427947998047,339.9370346069336,381.07362365722656,367.2821960449219,404.1698913574219,399.56663513183594,391.3075408935547,434.4922332763672,458.93599700927734,454.2079849243164,528.4241027832031,537.6137084960938,602.3272552490234,597.4203338623047,550.9162292480469,611.0599822998047,623.9539184570312,632.6143493652344,742.5603485107422,1064.4219055175781,1271.4398803710938,1183.7346801757812,1351.6416320800781,1371.9533996582031,1372.3190612792969,1626.7432556152344,1760.6363525390625,1814.3811645507812,1941.3140258789062,1605.0137023925781,1491.4923706054688,1593.8405151367188,1800.6661987304688,1784.124755859375,1797.0789794921875,1648.9279174804688,1876.3250732421875,2093.6302490234375,2116.7094116210938,2477.3355712890625,2224.5322875976562,2264.268798828125,2763.79150390625,3379.4755249023438,3939.6580200195312,3870.3453369140625,2596.8267822265625,2625.1381225585938,2332.4041137695312,2741.2908935546875,2538.9336547851562,2530.6206665039062,2215.2395629882812,1969.2962646484375,2140.6740112304688,2280.8497314453125,2124.6773071289062,1954.9574279785156,1858.5945434570312,2154.5382080078125,2337.4563598632812,2547.8576049804688,3077.8291625976562,3183.39013671875,3029.0144653320312,3292.4625854492188,3255.4393310546875,3793.3699340820312,3590.1146240234375,3344.5009765625,3478.4655151367188,2917.9002075195312,3024.0836791992188,3356.357421875,3573.6779174804688,3498.2167358398438,3813.1461791992188,4024.2960815429688,4072.960205078125,4287.7833251953125,4467.5499267578125,4681.2218017578125,4455.720703125,4339.96875,4259.36669921875,4630.418701171875,4216.01611328125,3983.9557495117188,4012.32763671875,3984.0957641601562,4069.8825073242188,3710.055419921875,3660.8652954101562,3091.391357421875,3320.8959350585938,3090.6592407226562,2438.5551147460938,2595.9752197265625,2830.9188232421875,3171.7388916015625,2902.9719848632812,2770.5750732421875,2546.0489501953125,2947.712890625,2612.1638793945312,2591.770263671875,2696.0389404296875,2887.7217407226562,3122.0587768554688,3343.748779296875,3472.5716552734375,3247.0071411132812,3026.6154174804688,3096.2137451171875,2938.8265991210938,2777.488525390625,2835.8291625976562,2310.9196166992188,2089.311737060547,1990.1971130371094,1970.4532470703125,1904.49853515625,1784.6658325195312,1797.6248779296875,1190.8479614257812,1051.6285705566406,1185.7951049804688,1122.0630493164062,1106.5484008789062,1219.357666015625,1146.3502807617188,1557.5474243164062,1587.9497680664062,1718.926513671875,1631.4146423339844,1744.8760070800781,1975.25537109375,1846.0145263671875,1630.4535827636719,1464.5233764648438,1589.5748901367188,1585.469482421875,1738.0767517089844,1447.6802368164062,1289.0934143066406,1342.8369140625,1294.8782653808594,1341.3569030761719,1288.8103332519531,1317.7795715332031,1306.8123779296875,1541.609130859375,1581.7635498046875,1601.6257629394531,1274.9320983886719,1231.2213745117188,1119.5004577636719,1207.4561157226562,1283.9379577636719,1262.7652893066406,1268.1833190917969,1218.7631530761719,1213.9546813964844,1221.8012084960938],\"decreasing\":{\"line\":{\"color\":\"red\"}},\"high\":[132.83535766601562,144.32818603515625,146.4809112548828,167.0581512451172,169.9101104736328,168.22032165527344,185.4058380126953,206.8040008544922,229.1846160888672,287.1236877441406,263.6954040527344,265.4314880371094,252.68673921190202,243.5549774169922,236.26644474407658,216.00234964559786,166.22236813639756,149.24326414632378,143.15523574137478,146.12852478027344,170.94976806640625,160.71112060546875,186.0835418701172,196.79237365722656,227.52969360351562,211.77862548828125,211.5522003173828,203.56639099121094,214.71682739257812,206.3614501953125,243.94314575195312,245.92897033691406,248.34243774414062,239.10145568847656,237.10696350248287,248.50802612304688,236.8136700061749,231.62114851016753,247.2916717529297,242.0037841796875,239.1606903076172,286.1928405761719,324.38079833984375,396.5069885253906,393.98736572265625,432.90460205078125,432.5802917480469,405.27388802303017,398.6966363943276,480.33099365234375,424.7500639447733,387.5384521484375,393.901611328125,380.5698617757505,361.9844055175781,358.77475533041223,353.1087750651085,395.1221618652344,369.76812744140625,420.14166259765625,409.7728576660156,397.1161193847656,456.20062255859375,473.578857421875,463.8310241699219,550.2274169921875,575.6414794921875,635.1605834960938,606.7919311523438,577.3401644903844,636.6403198242188,646.8465576171875,650.721435546875,754.2994384765625,1129.3714599609375,1347.9261474609375,1250.505859375,1405.744140625,1467.784912109375,1402.3997802734375,1689.1866455078125,1815.963623046875,1848.154052734375,1969.5469970703125,1829.6963827353995,1717.3550425639887,1669.1065673828125,1843.81884765625,1817.0601806640625,1823.35302734375,1769.5454674098364,1947.8377685546875,2140.9853515625,2196.996337890625,2544.267333984375,2345.8349609375,2354.086669921875,2796.054931640625,3541.462646484375,4197.47314453125,4129.185546875,3655.988527057709,3126.4076546421356,2875.7728886003647,2857.16552734375,2672.6896973698176,2606.432861328125,2568.2161712906964,2391.727867139489,2242.23876953125,2384.286865234375,2220.721385003764,2172.6993460663352,2063.8283870224254,2197.6494140625,2396.451904296875,2630.314208984375,3184.60400390625,3324.671630859375,3124.97607421875,3373.38427734375,3284.845947265625,3830.71142578125,3945.314208984375,3543.088536777883,3589.30517578125,3461.130135903455,3189.515171711493,3464.83740234375,3650.01318359375,3546.477783203125,3914.89794921875,4162.9755859375,4299.15283203125,4377.322265625,4530.9970703125,4778.05908203125,4891.70458984375,4471.502263294855,4550.84228515625,4780.732421875,4481.484902052482,4348.750507666866,4166.353128589292,4089.340382654021,4105.02392578125,4053.300290365654,3881.6778551437646,3771.2715752769604,3431.3314663494175,3376.1137007040056,3233.3864707133307,2835.9707927297122,2983.5869140625,3263.15576171875,2972.5924031683626,2937.782194015822,2854.1786336290047,3029.651611328125,2823.913341268579,2718.038610331555,2781.30712890625,2954.556640625,3146.825439453125,3435.12841796875,3546.706787109375,3310.179958907768,3278.5935500105247,3157.8857421875,3124.409114431342,3031.617856776218,2948.960693359375,2870.191176840539,2590.555396769879,2339.933566915213,2165.0653399761613,2067.759293523237,1986.1289143397435,1885.3973734296374,1841.5111256796624,1516.179543552722,1283.9040570546813,1234.849581017575,1178.4563151669906,1228.7679443359375,1202.953369140625,1607.0330810546875,1654.4287109375,1759.884033203125,1678.0982666015625,1806.886474609375,2013.7557373046875,1876.376953125,1836.6814685623465,1733.5675256630093,1643.1832275390625,1651.0511474609375,1778.1634521484375,1663.9832891100416,1555.8317629632238,1422.4625886349322,1382.649751348716,1359.328125,1340.0604557204797,1335.6478271484375,1317.10107421875,1574.4034423828125,1606.605712890625,1634.1324462890625,1552.8874015870326,1413.9097499878521,1322.5655622497854,1227.0380859375,1295.9998779296875,1271.9232177734375,1281.783203125,1278.156982421875,1240.409475013638,1227.1820782050613],\"increasing\":{\"line\":{\"color\":\"green\"}},\"low\":[129.1982879638672,130.41645431518555,135.33541679382324,139.54584407806396,151.95937490463257,160.0406196117401,162.2397311925888,171.94483202695847,184.60816964507103,204.72114758193493,239.9472284540534,246.85899353027344,214.13043212890625,228.7435760498047,184.36215209960938,105.17144012451172,127.16375732421875,134.8860321044922,131.65289306640625,138.120308147787,141.1899377042646,152.48321348103855,154.2874193473308,165.9164853236898,179.2050688337199,196.9122592245992,182.71116638183594,193.75567626953125,199.70865549191157,200.6675567626953,204.6083162167279,218.02295960677702,230.4147238219432,232.95819091796875,226.79518127441406,232.8077392578125,222.25498962402344,225.13331604003906,229.5043303585994,236.87148700241983,233.2797393798828,237.51534470440134,257.42901329458346,287.7440858098894,334.28108526334313,360.2500473313786,384.14944535758383,385.039794921875,381.2738342285156,394.0402813929646,326.2543640136719,367.8421936035156,364.7951354980469,336.85504150390625,349.8340759277344,336.4671630859375,334.5455627441406,346.52290483602104,363.79826424662383,365.54023014577285,384.85506075159736,385.16552734375,391.7591944176357,413.1257138470014,436.0308554281394,445.1194201762279,485.497314453125,512.1927349879046,557.2599951184641,537.8116455078125,564.1281968692156,587.5940895845101,605.7740040207707,619.1941766930025,680.8772626018724,872.6495840597253,1072.0447322154096,1127.8897061955954,1239.7656691378368,1305.85953439802,1339.0892978386585,1482.9162767269463,1621.7763146330044,1718.0787395918928,1511.0189208984375,1416.4161376953125,1519.14111328125,1599.1321108607237,1699.8991547955961,1742.0119553274856,1594.7366943359375,1709.2366924451526,1792.78088284367,1943.2055659335538,2029.9574887773238,2060.143798828125,2172.51513671875,2251.679103821775,2507.735303864012,2943.605414383178,3441.6317172013546,2170.22900390625,2394.35546875,2188.83447265625,2562.637451171875,2412.19775390625,2469.38818359375,2168.885009765625,1887.4320068359375,2076.240234375,2160.593038562216,2051.066650390625,1869.22314453125,1807.909912109375,1961.2114652397283,2057.8748366237705,2197.665598243526,2372.7616016119973,2725.295382104827,2954.3427594117884,2991.67861237191,3142.0705989105645,3198.754964982626,3062.222412109375,3235.109375,3356.449951171875,2741.440673828125,2932.69287109375,3106.799425455356,3231.578423665178,3402.6281705728234,3450.4224532063336,3631.784316202776,3828.0401988728727,3950.500201975499,4119.141763585406,4293.345845171609,4144.3349609375,4255.455078125,3933.506591796875,4332.551102933088,3930.806640625,3846.054443359375,3956.05712890625,3918.837890625,4013.0263671875,3636.869873046875,3456.745361328125,2947.68359375,3278.6708984375,3000.908203125,2359.384765625,2550.4609375,2675.44384765625,2773.4459147351627,2840.257568359375,2707.37841796875,2308.914794921875,2700.1137919121584,2555.037353515625,2534.688232421875,2610.764404296875,2675.471688715701,2781.5967147191786,2951.8277457873237,3147.7882625420993,3211.866943359375,3001.123291015625,3045.288330078125,2804.507080078125,2727.40625,2704.916259765625,2206.7568359375,2008.1627197265625,1926.6767578125,1943.9385986328125,1804.4560546875,1751.5333251953125,1779.8675537109375,1094.701904296875,943.1163330078125,1134.5140380859375,1092.09912109375,1048.3963623046875,1142.5023580229486,1077.40576171875,1163.6401463905027,1360.5937853534545,1474.2717767099302,1595.634521484375,1614.0068937624435,1679.441450421261,1826.957763671875,1569.4285888671875,1430.54736328125,1551.8779296875,1500.013671875,1589.8898265110988,1415.0423583984375,1240.96826171875,1308.991455078125,1275.3360595703125,1321.74609375,1277.5274658203125,1297.447265625,1295.9468994140625,1311.4599304696985,1426.5345306645368,1504.1490402346121,1211.32958984375,1192.98779296875,1084.8572998046875,1198.097900390625,1214.2445628646924,1247.6298828125,1255.9282748104115,1162.1756591796875,1206.4400634765625,1214.3359375],\"open\":[130.2163314819336,130.41645431518555,135.33541679382324,139.54584407806396,151.95937490463257,160.0406196117401,162.2397311925888,171.94483202695847,184.60816964507103,204.72114758193493,239.9472284540534,249.02561236545444,252.68673921190202,236.28481972496957,236.26644474407658,216.00234964559786,166.22236813639756,149.24326414632378,143.15523574137478,138.120308147787,141.1899377042646,152.48321348103855,154.2874193473308,165.9164853236898,179.2050688337199,196.9122592245992,202.28077370104472,200.44227817742666,199.70865549191157,205.6337810235437,204.6083162167279,218.02295960677702,230.4147238219432,237.92829391780754,237.10696350248287,233.30880134657835,236.8136700061749,231.62114851016753,229.5043303585994,236.87148700241983,238.43412797691792,237.51534470440134,257.42901329458346,287.7440858098894,334.28108526334313,360.2500473313786,384.14944535758383,405.27388802303017,398.6966363943276,394.0402813929646,424.7500639447733,386.19878151462297,382.7442844035517,380.5698617757505,361.4952885538909,358.77475533041223,353.1087750651085,346.52290483602104,363.79826424662383,365.54023014577285,384.85506075159736,392.2108479417167,391.7591944176357,413.1257138470014,436.0308554281394,445.1194201762279,486.7717614797155,512.1927349879046,557.2599951184641,577.3401644903844,564.1281968692156,587.5940895845101,605.7740040207707,619.1941766930025,680.8772626018724,872.6495840597253,1072.0447322154096,1127.8897061955954,1239.7656691378368,1305.85953439802,1339.0892978386585,1482.9162767269463,1621.7763146330044,1718.0787395918928,1829.6963827353995,1717.3550425639887,1604.4237065847287,1599.1321108607237,1699.8991547955961,1742.0119553274856,1769.5454674098364,1709.2366924451526,1792.78088284367,1943.2055659335538,2029.9574887773238,2253.646530033193,2239.0894088154246,2251.679103821775,2507.735303864012,2943.605414383178,3441.6317172013546,3655.988527057709,3126.4076546421356,2875.7728886003647,2604.0885011849477,2672.6896973698176,2605.811676077487,2568.2161712906964,2391.727867139489,2180.512065893963,2160.593038562216,2220.721385003764,2172.6993460663352,2063.8283870224254,1961.2114652397283,2057.8748366237705,2197.665598243526,2372.7616016119973,2725.295382104827,2954.3427594117884,2991.67861237191,3142.0705989105645,3198.754964982626,3496.0624495323286,3543.088536777883,3443.7947566701914,3461.130135903455,3189.515171711493,3106.799425455356,3231.578423665178,3402.6281705728234,3450.4224532063336,3631.784316202776,3828.0401988728727,3950.500201975499,4119.141763585406,4293.345845171609,4487.283823464711,4471.502263294855,4405.735506647427,4332.551102933088,4481.484902052482,4348.750507666866,4166.353128589292,4089.340382654021,4036.718073407089,4053.300290365654,3881.6778551437646,3771.2715752769604,3431.3314663494175,3376.1137007040056,3233.3864707133307,2835.9707927297122,2715.9730062281374,2773.4459147351627,2972.5924031683626,2937.782194015822,2854.1786336290047,2700.1137919121584,2823.913341268579,2718.038610331555,2654.904437001715,2675.471688715701,2781.5967147191786,2951.8277457873237,3147.7882625420993,3310.179958907768,3278.5935500105247,3152.6044837454965,3124.409114431342,3031.617856776218,2904.5531910834216,2870.191176840539,2590.555396769879,2339.933566915213,2165.0653399761613,2067.759293523237,1986.1289143397435,1885.3973734296374,1841.5111256796624,1516.179543552722,1283.9040570546813,1234.849581017575,1178.4563151669906,1142.5023580229486,1180.9300120192868,1163.6401463905027,1360.5937853534545,1474.2717767099302,1596.5991451909026,1614.0068937624435,1679.441450421261,1827.3484107575055,1836.6814685623465,1733.5675256630093,1599.0454510639265,1594.3101706003226,1589.8898265110988,1663.9832891100416,1555.8317629632238,1422.4625886349322,1382.649751348716,1338.7640083647877,1340.0604557204797,1314.4353944862164,1316.1074830097098,1311.4599304696985,1426.5345306645368,1504.1490402346121,1552.8874015870326,1413.9097499878521,1322.5655622497854,1221.0330100067285,1214.2445628646924,1249.0912603141821,1255.9282748104115,1262.0557969511042,1240.409475013638,1227.1820782050613],\"x\":[\"2020-01-01T00:00:00\",\"2020-01-06T00:00:00\",\"2020-01-11T00:00:00\",\"2020-01-16T00:00:00\",\"2020-01-21T00:00:00\",\"2020-01-26T00:00:00\",\"2020-01-31T00:00:00\",\"2020-02-05T00:00:00\",\"2020-02-10T00:00:00\",\"2020-02-15T00:00:00\",\"2020-02-20T00:00:00\",\"2020-02-25T00:00:00\",\"2020-03-01T00:00:00\",\"2020-03-06T00:00:00\",\"2020-03-11T00:00:00\",\"2020-03-16T00:00:00\",\"2020-03-21T00:00:00\",\"2020-03-26T00:00:00\",\"2020-03-31T00:00:00\",\"2020-04-05T00:00:00\",\"2020-04-10T00:00:00\",\"2020-04-15T00:00:00\",\"2020-04-20T00:00:00\",\"2020-04-25T00:00:00\",\"2020-04-30T00:00:00\",\"2020-05-05T00:00:00\",\"2020-05-10T00:00:00\",\"2020-05-15T00:00:00\",\"2020-05-20T00:00:00\",\"2020-05-25T00:00:00\",\"2020-05-30T00:00:00\",\"2020-06-04T00:00:00\",\"2020-06-09T00:00:00\",\"2020-06-14T00:00:00\",\"2020-06-19T00:00:00\",\"2020-06-24T00:00:00\",\"2020-06-29T00:00:00\",\"2020-07-04T00:00:00\",\"2020-07-09T00:00:00\",\"2020-07-14T00:00:00\",\"2020-07-19T00:00:00\",\"2020-07-24T00:00:00\",\"2020-07-29T00:00:00\",\"2020-08-03T00:00:00\",\"2020-08-08T00:00:00\",\"2020-08-13T00:00:00\",\"2020-08-18T00:00:00\",\"2020-08-23T00:00:00\",\"2020-08-28T00:00:00\",\"2020-09-02T00:00:00\",\"2020-09-07T00:00:00\",\"2020-09-12T00:00:00\",\"2020-09-17T00:00:00\",\"2020-09-22T00:00:00\",\"2020-09-27T00:00:00\",\"2020-10-02T00:00:00\",\"2020-10-07T00:00:00\",\"2020-10-12T00:00:00\",\"2020-10-17T00:00:00\",\"2020-10-22T00:00:00\",\"2020-10-27T00:00:00\",\"2020-11-01T00:00:00\",\"2020-11-06T00:00:00\",\"2020-11-11T00:00:00\",\"2020-11-16T00:00:00\",\"2020-11-21T00:00:00\",\"2020-11-26T00:00:00\",\"2020-12-01T00:00:00\",\"2020-12-06T00:00:00\",\"2020-12-11T00:00:00\",\"2020-12-16T00:00:00\",\"2020-12-21T00:00:00\",\"2020-12-26T00:00:00\",\"2020-12-31T00:00:00\",\"2021-01-05T00:00:00\",\"2021-01-10T00:00:00\",\"2021-01-15T00:00:00\",\"2021-01-20T00:00:00\",\"2021-01-25T00:00:00\",\"2021-01-30T00:00:00\",\"2021-02-04T00:00:00\",\"2021-02-09T00:00:00\",\"2021-02-14T00:00:00\",\"2021-02-19T00:00:00\",\"2021-02-24T00:00:00\",\"2021-03-01T00:00:00\",\"2021-03-06T00:00:00\",\"2021-03-11T00:00:00\",\"2021-03-16T00:00:00\",\"2021-03-21T00:00:00\",\"2021-03-26T00:00:00\",\"2021-03-31T00:00:00\",\"2021-04-05T00:00:00\",\"2021-04-10T00:00:00\",\"2021-04-15T00:00:00\",\"2021-04-20T00:00:00\",\"2021-04-25T00:00:00\",\"2021-04-30T00:00:00\",\"2021-05-05T00:00:00\",\"2021-05-10T00:00:00\",\"2021-05-15T00:00:00\",\"2021-05-20T00:00:00\",\"2021-05-25T00:00:00\",\"2021-05-30T00:00:00\",\"2021-06-04T00:00:00\",\"2021-06-09T00:00:00\",\"2021-06-14T00:00:00\",\"2021-06-19T00:00:00\",\"2021-06-24T00:00:00\",\"2021-06-29T00:00:00\",\"2021-07-04T00:00:00\",\"2021-07-09T00:00:00\",\"2021-07-14T00:00:00\",\"2021-07-19T00:00:00\",\"2021-07-24T00:00:00\",\"2021-07-29T00:00:00\",\"2021-08-03T00:00:00\",\"2021-08-08T00:00:00\",\"2021-08-13T00:00:00\",\"2021-08-18T00:00:00\",\"2021-08-23T00:00:00\",\"2021-08-28T00:00:00\",\"2021-09-02T00:00:00\",\"2021-09-07T00:00:00\",\"2021-09-12T00:00:00\",\"2021-09-17T00:00:00\",\"2021-09-22T00:00:00\",\"2021-09-27T00:00:00\",\"2021-10-02T00:00:00\",\"2021-10-07T00:00:00\",\"2021-10-12T00:00:00\",\"2021-10-17T00:00:00\",\"2021-10-22T00:00:00\",\"2021-10-27T00:00:00\",\"2021-11-01T00:00:00\",\"2021-11-06T00:00:00\",\"2021-11-11T00:00:00\",\"2021-11-16T00:00:00\",\"2021-11-21T00:00:00\",\"2021-11-26T00:00:00\",\"2021-12-01T00:00:00\",\"2021-12-06T00:00:00\",\"2021-12-11T00:00:00\",\"2021-12-16T00:00:00\",\"2021-12-21T00:00:00\",\"2021-12-26T00:00:00\",\"2021-12-31T00:00:00\",\"2022-01-05T00:00:00\",\"2022-01-10T00:00:00\",\"2022-01-15T00:00:00\",\"2022-01-20T00:00:00\",\"2022-01-25T00:00:00\",\"2022-01-30T00:00:00\",\"2022-02-04T00:00:00\",\"2022-02-09T00:00:00\",\"2022-02-14T00:00:00\",\"2022-02-19T00:00:00\",\"2022-02-24T00:00:00\",\"2022-03-01T00:00:00\",\"2022-03-06T00:00:00\",\"2022-03-11T00:00:00\",\"2022-03-16T00:00:00\",\"2022-03-21T00:00:00\",\"2022-03-26T00:00:00\",\"2022-03-31T00:00:00\",\"2022-04-05T00:00:00\",\"2022-04-10T00:00:00\",\"2022-04-15T00:00:00\",\"2022-04-20T00:00:00\",\"2022-04-25T00:00:00\",\"2022-04-30T00:00:00\",\"2022-05-05T00:00:00\",\"2022-05-10T00:00:00\",\"2022-05-15T00:00:00\",\"2022-05-20T00:00:00\",\"2022-05-25T00:00:00\",\"2022-05-30T00:00:00\",\"2022-06-04T00:00:00\",\"2022-06-09T00:00:00\",\"2022-06-14T00:00:00\",\"2022-06-19T00:00:00\",\"2022-06-24T00:00:00\",\"2022-06-29T00:00:00\",\"2022-07-04T00:00:00\",\"2022-07-09T00:00:00\",\"2022-07-14T00:00:00\",\"2022-07-19T00:00:00\",\"2022-07-24T00:00:00\",\"2022-07-29T00:00:00\",\"2022-08-03T00:00:00\",\"2022-08-08T00:00:00\",\"2022-08-13T00:00:00\",\"2022-08-18T00:00:00\",\"2022-08-23T00:00:00\",\"2022-08-28T00:00:00\",\"2022-09-02T00:00:00\",\"2022-09-07T00:00:00\",\"2022-09-12T00:00:00\",\"2022-09-17T00:00:00\",\"2022-09-22T00:00:00\",\"2022-09-27T00:00:00\",\"2022-10-02T00:00:00\",\"2022-10-07T00:00:00\",\"2022-10-12T00:00:00\",\"2022-10-17T00:00:00\",\"2022-10-22T00:00:00\",\"2022-10-27T00:00:00\",\"2022-11-01T00:00:00\",\"2022-11-06T00:00:00\",\"2022-11-11T00:00:00\",\"2022-11-16T00:00:00\",\"2022-11-21T00:00:00\",\"2022-11-26T00:00:00\",\"2022-12-01T00:00:00\",\"2022-12-06T00:00:00\",\"2022-12-11T00:00:00\",\"2022-12-16T00:00:00\",\"2022-12-21T00:00:00\",\"2022-12-26T00:00:00\"],\"type\":\"candlestick\"},{\"marker\":{\"color\":\"darkblue\",\"size\":12,\"symbol\":\"triangle-up\"},\"mode\":\"markers\",\"name\":\"Long Entry Signal\",\"x\":[\"2020-06-19T00:00:00\",\"2021-04-05T00:00:00\",\"2021-09-22T00:00:00\",\"2022-03-06T00:00:00\"],\"y\":[229.51063919067383,2093.6302490234375,2917.9002075195312,2612.1638793945312],\"type\":\"scatter\"},{\"marker\":{\"color\":\"darkred\",\"size\":12,\"symbol\":\"triangle-down\"},\"mode\":\"markers\",\"name\":\"Long Exit Signal\",\"x\":[\"2020-09-07T00:00:00\",\"2021-05-20T00:00:00\",\"2021-11-26T00:00:00\",\"2022-04-30T00:00:00\"],\"y\":[347.64749908447266,2596.8267822265625,4259.36669921875,2777.488525390625],\"type\":\"scatter\"},{\"marker\":{\"color\":\"darkorange\",\"size\":12,\"symbol\":\"triangle-left\"},\"mode\":\"markers\",\"name\":\"Short Signal\",\"x\":[\"2020-09-17T00:00:00\",\"2021-03-11T00:00:00\",\"2021-12-31T00:00:00\",\"2022-06-09T00:00:00\"],\"y\":[378.3954391479492,1800.6661987304688,3710.055419921875,1797.6248779296875],\"type\":\"scatter\"},{\"marker\":{\"color\":\"purple\",\"size\":12,\"symbol\":\"triangle-right\"},\"mode\":\"markers\",\"name\":\"Short Exit Signal\",\"x\":[\"2020-10-22T00:00:00\",\"2021-03-31T00:00:00\",\"2022-03-01T00:00:00\",\"2022-07-19T00:00:00\"],\"y\":[404.1698913574219,1876.3250732421875,2947.712890625,1557.5474243164062],\"type\":\"scatter\"}],                        {\"template\":{\"data\":{\"histogram2dcontour\":[{\"type\":\"histogram2dcontour\",\"colorbar\":{\"outlinewidth\":0,\"ticks\":\"\"},\"colorscale\":[[0.0,\"#0d0887\"],[0.1111111111111111,\"#46039f\"],[0.2222222222222222,\"#7201a8\"],[0.3333333333333333,\"#9c179e\"],[0.4444444444444444,\"#bd3786\"],[0.5555555555555556,\"#d8576b\"],[0.6666666666666666,\"#ed7953\"],[0.7777777777777778,\"#fb9f3a\"],[0.8888888888888888,\"#fdca26\"],[1.0,\"#f0f921\"]]}],\"choropleth\":[{\"type\":\"choropleth\",\"colorbar\":{\"outlinewidth\":0,\"ticks\":\"\"}}],\"histogram2d\":[{\"type\":\"histogram2d\",\"colorbar\":{\"outlinewidth\":0,\"ticks\":\"\"},\"colorscale\":[[0.0,\"#0d0887\"],[0.1111111111111111,\"#46039f\"],[0.2222222222222222,\"#7201a8\"],[0.3333333333333333,\"#9c179e\"],[0.4444444444444444,\"#bd3786\"],[0.5555555555555556,\"#d8576b\"],[0.6666666666666666,\"#ed7953\"],[0.7777777777777778,\"#fb9f3a\"],[0.8888888888888888,\"#fdca26\"],[1.0,\"#f0f921\"]]}],\"heatmap\":[{\"type\":\"heatmap\",\"colorbar\":{\"outlinewidth\":0,\"ticks\":\"\"},\"colorscale\":[[0.0,\"#0d0887\"],[0.1111111111111111,\"#46039f\"],[0.2222222222222222,\"#7201a8\"],[0.3333333333333333,\"#9c179e\"],[0.4444444444444444,\"#bd3786\"],[0.5555555555555556,\"#d8576b\"],[0.6666666666666666,\"#ed7953\"],[0.7777777777777778,\"#fb9f3a\"],[0.8888888888888888,\"#fdca26\"],[1.0,\"#f0f921\"]]}],\"heatmapgl\":[{\"type\":\"heatmapgl\",\"colorbar\":{\"outlinewidth\":0,\"ticks\":\"\"},\"colorscale\":[[0.0,\"#0d0887\"],[0.1111111111111111,\"#46039f\"],[0.2222222222222222,\"#7201a8\"],[0.3333333333333333,\"#9c179e\"],[0.4444444444444444,\"#bd3786\"],[0.5555555555555556,\"#d8576b\"],[0.6666666666666666,\"#ed7953\"],[0.7777777777777778,\"#fb9f3a\"],[0.8888888888888888,\"#fdca26\"],[1.0,\"#f0f921\"]]}],\"contourcarpet\":[{\"type\":\"contourcarpet\",\"colorbar\":{\"outlinewidth\":0,\"ticks\":\"\"}}],\"contour\":[{\"type\":\"contour\",\"colorbar\":{\"outlinewidth\":0,\"ticks\":\"\"},\"colorscale\":[[0.0,\"#0d0887\"],[0.1111111111111111,\"#46039f\"],[0.2222222222222222,\"#7201a8\"],[0.3333333333333333,\"#9c179e\"],[0.4444444444444444,\"#bd3786\"],[0.5555555555555556,\"#d8576b\"],[0.6666666666666666,\"#ed7953\"],[0.7777777777777778,\"#fb9f3a\"],[0.8888888888888888,\"#fdca26\"],[1.0,\"#f0f921\"]]}],\"surface\":[{\"type\":\"surface\",\"colorbar\":{\"outlinewidth\":0,\"ticks\":\"\"},\"colorscale\":[[0.0,\"#0d0887\"],[0.1111111111111111,\"#46039f\"],[0.2222222222222222,\"#7201a8\"],[0.3333333333333333,\"#9c179e\"],[0.4444444444444444,\"#bd3786\"],[0.5555555555555556,\"#d8576b\"],[0.6666666666666666,\"#ed7953\"],[0.7777777777777778,\"#fb9f3a\"],[0.8888888888888888,\"#fdca26\"],[1.0,\"#f0f921\"]]}],\"mesh3d\":[{\"type\":\"mesh3d\",\"colorbar\":{\"outlinewidth\":0,\"ticks\":\"\"}}],\"scatter\":[{\"fillpattern\":{\"fillmode\":\"overlay\",\"size\":10,\"solidity\":0.2},\"type\":\"scatter\"}],\"parcoords\":[{\"type\":\"parcoords\",\"line\":{\"colorbar\":{\"outlinewidth\":0,\"ticks\":\"\"}}}],\"scatterpolargl\":[{\"type\":\"scatterpolargl\",\"marker\":{\"colorbar\":{\"outlinewidth\":0,\"ticks\":\"\"}}}],\"bar\":[{\"error_x\":{\"color\":\"#2a3f5f\"},\"error_y\":{\"color\":\"#2a3f5f\"},\"marker\":{\"line\":{\"color\":\"#E5ECF6\",\"width\":0.5},\"pattern\":{\"fillmode\":\"overlay\",\"size\":10,\"solidity\":0.2}},\"type\":\"bar\"}],\"scattergeo\":[{\"type\":\"scattergeo\",\"marker\":{\"colorbar\":{\"outlinewidth\":0,\"ticks\":\"\"}}}],\"scatterpolar\":[{\"type\":\"scatterpolar\",\"marker\":{\"colorbar\":{\"outlinewidth\":0,\"ticks\":\"\"}}}],\"histogram\":[{\"marker\":{\"pattern\":{\"fillmode\":\"overlay\",\"size\":10,\"solidity\":0.2}},\"type\":\"histogram\"}],\"scattergl\":[{\"type\":\"scattergl\",\"marker\":{\"colorbar\":{\"outlinewidth\":0,\"ticks\":\"\"}}}],\"scatter3d\":[{\"type\":\"scatter3d\",\"line\":{\"colorbar\":{\"outlinewidth\":0,\"ticks\":\"\"}},\"marker\":{\"colorbar\":{\"outlinewidth\":0,\"ticks\":\"\"}}}],\"scattermapbox\":[{\"type\":\"scattermapbox\",\"marker\":{\"colorbar\":{\"outlinewidth\":0,\"ticks\":\"\"}}}],\"scatterternary\":[{\"type\":\"scatterternary\",\"marker\":{\"colorbar\":{\"outlinewidth\":0,\"ticks\":\"\"}}}],\"scattercarpet\":[{\"type\":\"scattercarpet\",\"marker\":{\"colorbar\":{\"outlinewidth\":0,\"ticks\":\"\"}}}],\"carpet\":[{\"aaxis\":{\"endlinecolor\":\"#2a3f5f\",\"gridcolor\":\"white\",\"linecolor\":\"white\",\"minorgridcolor\":\"white\",\"startlinecolor\":\"#2a3f5f\"},\"baxis\":{\"endlinecolor\":\"#2a3f5f\",\"gridcolor\":\"white\",\"linecolor\":\"white\",\"minorgridcolor\":\"white\",\"startlinecolor\":\"#2a3f5f\"},\"type\":\"carpet\"}],\"table\":[{\"cells\":{\"fill\":{\"color\":\"#EBF0F8\"},\"line\":{\"color\":\"white\"}},\"header\":{\"fill\":{\"color\":\"#C8D4E3\"},\"line\":{\"color\":\"white\"}},\"type\":\"table\"}],\"barpolar\":[{\"marker\":{\"line\":{\"color\":\"#E5ECF6\",\"width\":0.5},\"pattern\":{\"fillmode\":\"overlay\",\"size\":10,\"solidity\":0.2}},\"type\":\"barpolar\"}],\"pie\":[{\"automargin\":true,\"type\":\"pie\"}]},\"layout\":{\"autotypenumbers\":\"strict\",\"colorway\":[\"#636efa\",\"#EF553B\",\"#00cc96\",\"#ab63fa\",\"#FFA15A\",\"#19d3f3\",\"#FF6692\",\"#B6E880\",\"#FF97FF\",\"#FECB52\"],\"font\":{\"color\":\"#2a3f5f\"},\"hovermode\":\"closest\",\"hoverlabel\":{\"align\":\"left\"},\"paper_bgcolor\":\"white\",\"plot_bgcolor\":\"#E5ECF6\",\"polar\":{\"bgcolor\":\"#E5ECF6\",\"angularaxis\":{\"gridcolor\":\"white\",\"linecolor\":\"white\",\"ticks\":\"\"},\"radialaxis\":{\"gridcolor\":\"white\",\"linecolor\":\"white\",\"ticks\":\"\"}},\"ternary\":{\"bgcolor\":\"#E5ECF6\",\"aaxis\":{\"gridcolor\":\"white\",\"linecolor\":\"white\",\"ticks\":\"\"},\"baxis\":{\"gridcolor\":\"white\",\"linecolor\":\"white\",\"ticks\":\"\"},\"caxis\":{\"gridcolor\":\"white\",\"linecolor\":\"white\",\"ticks\":\"\"}},\"coloraxis\":{\"colorbar\":{\"outlinewidth\":0,\"ticks\":\"\"}},\"colorscale\":{\"sequential\":[[0.0,\"#0d0887\"],[0.1111111111111111,\"#46039f\"],[0.2222222222222222,\"#7201a8\"],[0.3333333333333333,\"#9c179e\"],[0.4444444444444444,\"#bd3786\"],[0.5555555555555556,\"#d8576b\"],[0.6666666666666666,\"#ed7953\"],[0.7777777777777778,\"#fb9f3a\"],[0.8888888888888888,\"#fdca26\"],[1.0,\"#f0f921\"]],\"sequentialminus\":[[0.0,\"#0d0887\"],[0.1111111111111111,\"#46039f\"],[0.2222222222222222,\"#7201a8\"],[0.3333333333333333,\"#9c179e\"],[0.4444444444444444,\"#bd3786\"],[0.5555555555555556,\"#d8576b\"],[0.6666666666666666,\"#ed7953\"],[0.7777777777777778,\"#fb9f3a\"],[0.8888888888888888,\"#fdca26\"],[1.0,\"#f0f921\"]],\"diverging\":[[0,\"#8e0152\"],[0.1,\"#c51b7d\"],[0.2,\"#de77ae\"],[0.3,\"#f1b6da\"],[0.4,\"#fde0ef\"],[0.5,\"#f7f7f7\"],[0.6,\"#e6f5d0\"],[0.7,\"#b8e186\"],[0.8,\"#7fbc41\"],[0.9,\"#4d9221\"],[1,\"#276419\"]]},\"xaxis\":{\"gridcolor\":\"white\",\"linecolor\":\"white\",\"ticks\":\"\",\"title\":{\"standoff\":15},\"zerolinecolor\":\"white\",\"automargin\":true,\"zerolinewidth\":2},\"yaxis\":{\"gridcolor\":\"white\",\"linecolor\":\"white\",\"ticks\":\"\",\"title\":{\"standoff\":15},\"zerolinecolor\":\"white\",\"automargin\":true,\"zerolinewidth\":2},\"scene\":{\"xaxis\":{\"backgroundcolor\":\"#E5ECF6\",\"gridcolor\":\"white\",\"linecolor\":\"white\",\"showbackground\":true,\"ticks\":\"\",\"zerolinecolor\":\"white\",\"gridwidth\":2},\"yaxis\":{\"backgroundcolor\":\"#E5ECF6\",\"gridcolor\":\"white\",\"linecolor\":\"white\",\"showbackground\":true,\"ticks\":\"\",\"zerolinecolor\":\"white\",\"gridwidth\":2},\"zaxis\":{\"backgroundcolor\":\"#E5ECF6\",\"gridcolor\":\"white\",\"linecolor\":\"white\",\"showbackground\":true,\"ticks\":\"\",\"zerolinecolor\":\"white\",\"gridwidth\":2}},\"shapedefaults\":{\"line\":{\"color\":\"#2a3f5f\"}},\"annotationdefaults\":{\"arrowcolor\":\"#2a3f5f\",\"arrowhead\":0,\"arrowwidth\":1},\"geo\":{\"bgcolor\":\"white\",\"landcolor\":\"#E5ECF6\",\"subunitcolor\":\"white\",\"showland\":true,\"showlakes\":true,\"lakecolor\":\"white\"},\"title\":{\"x\":0.05},\"mapbox\":{\"style\":\"light\"}}},\"xaxis\":{\"rangeslider\":{\"visible\":false},\"title\":{\"text\":\"Date\"}},\"title\":{\"text\":\"Ethereum (ETH-USD) Heikin-Ashi Candlestick Chart with Trade Signals\"},\"yaxis\":{\"title\":{\"text\":\"Price (USD)\"}}},                        {\"responsive\": true}                    ).then(function(){\n",
              "                            \n",
              "var gd = document.getElementById('206b6aba-914d-4659-9939-2173ecc18de9');\n",
              "var x = new MutationObserver(function (mutations, observer) {{\n",
              "        var display = window.getComputedStyle(gd).display;\n",
              "        if (!display || display === 'none') {{\n",
              "            console.log([gd, 'removed!']);\n",
              "            Plotly.purge(gd);\n",
              "            observer.disconnect();\n",
              "        }}\n",
              "}});\n",
              "\n",
              "// Listen for the removal of the full notebook cells\n",
              "var notebookContainer = gd.closest('#notebook-container');\n",
              "if (notebookContainer) {{\n",
              "    x.observe(notebookContainer, {childList: true});\n",
              "}}\n",
              "\n",
              "// Listen for the clearing of the current output cell\n",
              "var outputEl = gd.closest('.output');\n",
              "if (outputEl) {{\n",
              "    x.observe(outputEl, {childList: true});\n",
              "}}\n",
              "\n",
              "                        })                };                            </script>        </div>\n",
              "</body>\n",
              "</html>"
            ]
          },
          "metadata": {}
        }
      ]
    },
    {
      "cell_type": "code",
      "source": [
        "metrics=calculate_performance_metrics(eth_data,signals)\n",
        "print(metrics)"
      ],
      "metadata": {
        "colab": {
          "base_uri": "https://localhost:8080/"
        },
        "id": "Jtd-Z95FCPZB",
        "outputId": "1e67c478-f3c0-4ca6-d125-786fc0d792db"
      },
      "execution_count": null,
      "outputs": [
        {
          "output_type": "stream",
          "name": "stdout",
          "text": [
            "{'Total Trades': 8, 'Win Rate (%)': 75.0, 'Net Profit (%) (Compounded)': 246.3750445806789, 'Sharpe Ratio': 0.14984647729987302, 'Sortino Ratio': 0.8850510656059303, 'Risk-Reward Ratio': 4.62318331684873, 'Max Drawdown (%)': 11.088923305254463, 'Max Adverse Excursion (%)': -0.0636311832500195, 'Max Trade Duration (days)': 80, 'Average Trade Duration (days)': 50}\n"
          ]
        }
      ]
    },
    {
      "cell_type": "code",
      "source": [],
      "metadata": {
        "id": "PB90ENK6gmSr"
      },
      "execution_count": null,
      "outputs": []
    }
  ]
}