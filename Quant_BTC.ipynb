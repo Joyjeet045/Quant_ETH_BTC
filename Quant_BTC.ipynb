{
  "cells": [
    {
      "cell_type": "code",
      "execution_count": 372,
      "metadata": {
        "id": "E3IysqiTze-3"
      },
      "outputs": [],
      "source": [
        "import numpy as np\n",
        "import pandas as pd\n",
        "import yfinance as yf\n",
        "import random\n",
        "import warnings\n",
        "import plotly.graph_objects as go\n",
        "import warnings\n",
        "warnings.filterwarnings(\"ignore\")\n"
      ]
    },
    {
      "cell_type": "code",
      "execution_count": 373,
      "metadata": {
        "id": "0Fiz2cYELMmR"
      },
      "outputs": [],
      "source": [
        "def fill_missing_values(column, method='ffill'):\n",
        "\n",
        "    if column.isnull().any():\n",
        "        if method == 'zero':\n",
        "            return column.fillna(0)\n",
        "        elif method == 'interpolate':\n",
        "            return column.interpolate(method='linear').fillna(method='ffill').fillna(method='bfill')\n",
        "        else:\n",
        "            return column.fillna(method='ffill').fillna(method='bfill')\n",
        "\n",
        "    return column\n"
      ]
    },
    {
      "cell_type": "code",
      "execution_count": 374,
      "metadata": {
        "id": "X_9W9OBu0z2s"
      },
      "outputs": [],
      "source": [
        "def calculate_rsi(df, period=14):\n",
        "    delta = df['Close'].diff()\n",
        "\n",
        "    gain = delta.where(delta > 0, 0)\n",
        "    loss = -delta.where(delta < 0, 0)\n",
        "\n",
        "    avg_gain = gain.rolling(window=period, min_periods=1).mean()\n",
        "    avg_loss = loss.rolling(window=period, min_periods=1).mean()\n",
        "\n",
        "    rs = avg_gain / avg_loss\n",
        "    df['RSI'] = 100 - (100 / (1 + rs))\n",
        "\n",
        "    return df"
      ]
    },
    {
      "cell_type": "code",
      "execution_count": 375,
      "metadata": {
        "id": "1VaHTfxO03pY"
      },
      "outputs": [],
      "source": [
        "def calculate_ema(df, column='Close', period=14):\n",
        "    alpha = 2 / (period + 1)\n",
        "    ema = [None] * len(df)\n",
        "    prices = df[column].values\n",
        "    ema[period - 1] = sum(prices[:period]) / period\n",
        "    for i in range(period, len(prices)):\n",
        "        ema[i] = alpha * prices[i] + (1 - alpha) * ema[i - 1]\n",
        "    return pd.Series(ema, index=df.index)\n",
        "\n",
        "def calculate_atr(df, period=14):\n",
        "    high_low = df['High'] - df['Low']\n",
        "    high_close = np.abs(df['High'] - df['Close'].shift(1))\n",
        "    low_close = np.abs(df['Low'] - df['Close'].shift(1))\n",
        "    tr = np.maximum.reduce([high_low, high_close, low_close])\n",
        "    tr = pd.Series(tr, index=df.index)\n",
        "    atr = tr.rolling(window=period).mean()\n",
        "    df['ATR'] = atr\n",
        "    df['ATR'] = fill_missing_values(df['ATR'])\n",
        "    return df"
      ]
    },
    {
      "cell_type": "code",
      "execution_count": 421,
      "metadata": {
        "id": "Z-z2CHgQ2DsA"
      },
      "outputs": [],
      "source": [
        "# Helpful for detecting Trend Reversals\n",
        "\n",
        "def calculate_psar(df, af_start=0.02, af_increment=0.02, af_max=0.2):\n",
        "    psar = [None] * len(df)\n",
        "    psar_direction = 1  # 1 for uptrend, -1 for downtrend\n",
        "    af = af_start\n",
        "    ep = df['High'][0] if psar_direction == 1 else df['Low'][0]\n",
        "\n",
        "    psar[0] = df['Low'][0] if psar_direction == 1 else df['High'][0]\n",
        "\n",
        "    for i in range(1, len(df)):\n",
        "        if psar_direction == 1:\n",
        "            psar[i] = psar[i - 1] + af * (ep - psar[i - 1])\n",
        "\n",
        "            if df['Low'][i] < psar[i]:\n",
        "                psar_direction = -1\n",
        "                psar[i] = ep\n",
        "                af = af_start\n",
        "                ep = df['Low'][i]\n",
        "            else:\n",
        "                if df['High'][i] > ep:\n",
        "                    ep = df['High'][i]\n",
        "                    af = min(af + af_increment, af_max)\n",
        "                psar[i] = min(psar[i], df['Low'][i - 1], df['Low'][i - 2] if i > 1 else psar[i])\n",
        "        else:\n",
        "            psar[i] = psar[i - 1] + af * (ep - psar[i - 1])\n",
        "\n",
        "            if df['High'][i] > psar[i]:\n",
        "                psar_direction = 1\n",
        "                psar[i] = ep\n",
        "                af = af_start\n",
        "                ep = df['High'][i]\n",
        "            else:\n",
        "                if df['Low'][i] < ep:\n",
        "                    ep = df['Low'][i]\n",
        "                    af = min(af + af_increment, af_max)\n",
        "                psar[i] = max(psar[i], df['High'][i - 1], df['High'][i - 2] if i > 1 else psar[i])\n",
        "\n",
        "    df['PSAR'] = psar\n",
        "    return df\n"
      ]
    },
    {
      "cell_type": "code",
      "execution_count": 377,
      "metadata": {
        "id": "4KNYpsjCFAQo"
      },
      "outputs": [],
      "source": [
        "def calculate_macd(df, column='Close', short_period=12, long_period=26, signal_period=9):\n",
        "    df = df.copy()\n",
        "\n",
        "    short_ema = calculate_ema(df, column=column, period=short_period)\n",
        "    short_ema = fill_missing_values(short_ema, method='interpolate')\n",
        "\n",
        "    long_ema = calculate_ema(df, column=column, period=long_period)\n",
        "    long_ema = fill_missing_values(long_ema, method='interpolate')\n",
        "\n",
        "    macd_line = short_ema - long_ema\n",
        "    df['MACD_Line'] = macd_line\n",
        "    df['MACD_Line'] = fill_missing_values(df['MACD_Line'], method='interpolate')\n",
        "\n",
        "    signal_line = calculate_ema(df, column='MACD_Line', period=signal_period)\n",
        "    df['Signal_Line'] = signal_line\n",
        "    df['Signal_Line'] = fill_missing_values(df['Signal_Line'], method='interpolate')\n",
        "\n",
        "    df['MACD_Histogram'] = df['MACD_Line'] - df['Signal_Line']\n",
        "\n",
        "    df['MACD_Histogram'] = fill_missing_values(df['MACD_Histogram'], method='interpolate')\n",
        "\n",
        "    return df"
      ]
    },
    {
      "cell_type": "code",
      "execution_count": 378,
      "metadata": {
        "id": "JmZSTbD2_2nz"
      },
      "outputs": [],
      "source": [
        "def reduce_noise(data):\n",
        "    process_variance=1e-5\n",
        "    measurement_variance=1\n",
        "    posteri_estimate = 0.0   #  X(t+1|t) or Y(t+1|t)\n",
        "    posteri_error_estimate = 1.0  # P(t+1|t)\n",
        "\n",
        "    smoothed_prices = []\n",
        "    for price in data['Close']:\n",
        "      priori_estimate = posteri_estimate  #𝑋𝑡+1|𝑡 = 𝜙𝑋𝑡|𝑡 + 𝑐𝑡 or 𝑌𝑡+1|𝑡 = 𝐻𝑋𝑡 + 𝑑𝑡\n",
        "      priori_error_estimate = posteri_error_estimate + process_variance #𝑃𝑡+1|𝑡 = 𝜙𝑃𝑡|𝑡 𝜙 (𝑇) + 𝑄\n",
        "\n",
        "      kalman_gain=priori_error_estimate+measurement_variance           #𝐾𝑡+1 = 𝑃𝑡+1|𝑡 𝐻 (𝑇) [𝐻𝑃𝑡+1|𝑡 𝐻 (𝑇) + 𝑅]^-1\n",
        "      posteri_estimate= priori_estimate+kalman_gain * (price - priori_estimate)   #𝑋𝑡+1 = 𝑋𝑡+1|𝑡 + 𝐾𝑡+1 (𝑌𝑡+1 − 𝑌𝑡+1|𝑡)\n",
        "      posteri_error_estimate = (1 - kalman_gain) * priori_error_estimate  #𝑃𝑡+1|𝑡+1 = [𝐼 − 𝐾𝑡+1 𝐻]𝑃𝑡+1|𝑡\n",
        "      smoothed_prices.append(posteri_estimate)\n",
        "\n",
        "    data['smoothed_close'] = smoothed_prices\n",
        "    return data"
      ]
    },
    {
      "cell_type": "code",
      "execution_count": 440,
      "metadata": {
        "id": "1viJGOiiJhp3"
      },
      "outputs": [],
      "source": [
        "def process_data(data):\n",
        "    data = reduce_noise(data)\n",
        "    data = calculate_psar(data)\n",
        "\n",
        "    data['EMA9'] = calculate_ema(data, column='Close', period=9)\n",
        "    data['EMA9'] = fill_missing_values(data['EMA9'])\n",
        "    data['EMA20'] = calculate_ema(data, column='Close', period=20)\n",
        "    data['EMA20'] = fill_missing_values(data['EMA20'])\n",
        "\n",
        "    data = calculate_rsi(data)\n",
        "    data['RSI'] = data['RSI'].fillna(40)\n",
        "\n",
        "\n",
        "    data['P_EMA_RSI'] = calculate_ema(data, column='RSI', period=5)\n",
        "    data['P_EMA_RSI'] = fill_missing_values(data['P_EMA_RSI'])\n",
        "\n",
        "    data = calculate_macd(data)\n",
        "    data = calculate_atr(data)\n",
        "\n",
        "    return data\n"
      ]
    },
    {
      "cell_type": "code",
      "execution_count": 441,
      "metadata": {
        "id": "ehwpYYzM1nRm"
      },
      "outputs": [],
      "source": [
        "def prepare_data(symbol):\n",
        "    data = yf.download(symbol, start='2020-01-01', end='2022-12-31', interval='5d')\n",
        "    data.columns = data.columns.droplevel(1)\n",
        "    return data\n"
      ]
    },
    {
      "cell_type": "code",
      "execution_count": 442,
      "metadata": {
        "colab": {
          "base_uri": "https://localhost:8080/"
        },
        "id": "MebX7u3J17HA",
        "outputId": "ba192229-383a-462d-9089-6e844ec22e88"
      },
      "outputs": [
        {
          "name": "stderr",
          "output_type": "stream",
          "text": [
            "[*********************100%***********************]  1 of 1 completed\n",
            "[*********************100%***********************]  1 of 1 completed\n"
          ]
        }
      ],
      "source": [
        "btc_data = prepare_data('BTC-USD')\n",
        "eth_data = prepare_data('ETH-USD')\n",
        "\n",
        "btc_data=process_data(btc_data)\n",
        "eth_data=process_data(eth_data)\n",
        "data = pd.DataFrame({'ETH': eth_data['Close'], 'BTC': btc_data['Close']}).dropna()"
      ]
    },
    {
      "cell_type": "code",
      "execution_count": 443,
      "metadata": {
        "colab": {
          "base_uri": "https://localhost:8080/"
        },
        "id": "_rE4qiit9tuU",
        "outputId": "cffa95cc-f9e9-47de-fcb5-7e6adf3e2528"
      },
      "outputs": [
        {
          "name": "stdout",
          "output_type": "stream",
          "text": [
            "Price\n",
            "Adj Close         0\n",
            "Close             0\n",
            "High              0\n",
            "Low               0\n",
            "Open              0\n",
            "Volume            0\n",
            "smoothed_close    0\n",
            "PSAR              0\n",
            "EMA9              0\n",
            "EMA20             0\n",
            "RSI               0\n",
            "P_EMA_RSI         0\n",
            "MACD_Line         0\n",
            "Signal_Line       0\n",
            "MACD_Histogram    0\n",
            "ATR               0\n",
            "dtype: int64\n"
          ]
        }
      ],
      "source": [
        "null_counts = btc_data.isnull().sum()\n",
        "print(null_counts)"
      ]
    },
    {
      "cell_type": "code",
      "execution_count": 444,
      "metadata": {
        "colab": {
          "base_uri": "https://localhost:8080/"
        },
        "id": "aD8wbHFPBIT4",
        "outputId": "258f5294-4666-46c9-af68-8ce52bce47bb"
      },
      "outputs": [
        {
          "name": "stdout",
          "output_type": "stream",
          "text": [
            "Date\n",
            "2020-01-01     852.278255\n",
            "2020-01-06     852.278255\n",
            "2020-01-11     852.278255\n",
            "2020-01-16     852.278255\n",
            "2020-01-21     852.278255\n",
            "                 ...     \n",
            "2022-12-06   -2136.464110\n",
            "2022-12-11   -2050.899343\n",
            "2022-12-16   -1996.921973\n",
            "2022-12-21   -1918.309760\n",
            "2022-12-26   -1826.699663\n",
            "Name: MACD_Line, Length: 219, dtype: float64\n"
          ]
        }
      ],
      "source": [
        "print(btc_data['MACD_Line'])"
      ]
    },
    {
      "cell_type": "code",
      "execution_count": 445,
      "metadata": {
        "id": "WxXgc_HE1RHD"
      },
      "outputs": [],
      "source": [
        "# Dynamic Time Warping (DTW) for Cross-correlation\n",
        "\n",
        "def fastdtw(x, y, radius=1):\n",
        "    n, m = len(x), len(y)\n",
        "    cost = np.full((n + 1, m + 1), np.inf)\n",
        "    cost[0, 0] = 0\n",
        "\n",
        "    for i in range(1, n + 1):\n",
        "        for j in range(max(1, i - radius), min(m, i + radius) + 1):\n",
        "            cost[i, j] = abs(x[i - 1] - y[j - 1]) + min(\n",
        "                cost[i - 1, j],  # insertion\n",
        "                cost[i, j - 1],  # deletion\n",
        "                cost[i - 1, j - 1]  # match\n",
        "            )\n",
        "\n",
        "    path = []\n",
        "    i, j = n, m\n",
        "    while i > 0 and j > 0:\n",
        "        path.append((i - 1, j - 1))\n",
        "        if cost[i - 1, j] == min(cost[i - 1, j], cost[i, j - 1], cost[i - 1, j - 1]):\n",
        "            i -= 1\n",
        "        elif cost[i, j - 1] == min(cost[i - 1, j], cost[i, j - 1], cost[i - 1, j - 1]):\n",
        "            j -= 1\n",
        "        else:\n",
        "            i -= 1\n",
        "            j -= 1\n",
        "    path.reverse()\n",
        "    return cost[n, m], path"
      ]
    },
    {
      "cell_type": "code",
      "execution_count": 446,
      "metadata": {
        "id": "NBMRjPZx1aGa"
      },
      "outputs": [],
      "source": [
        "window_size = 30\n",
        "dtw_distances = []\n",
        "for i in range(len(data) - window_size):\n",
        "    eth_window = data['ETH'].iloc[i:i + window_size].values\n",
        "    btc_window = data['BTC'].iloc[i:i + window_size].values\n",
        "    distance, _ = fastdtw(eth_window, btc_window)\n",
        "    dtw_distances.append(distance)\n",
        "\n",
        "\n",
        "dtw_threshold = np.percentile(dtw_distances, 25)\n",
        "data = data.iloc[window_size:]\n",
        "data['DTW_Distance'] = dtw_distances"
      ]
    },
    {
      "cell_type": "code",
      "execution_count": 447,
      "metadata": {
        "colab": {
          "base_uri": "https://localhost:8080/"
        },
        "id": "fdN-cMRBc4Vd",
        "outputId": "1ce908a8-05da-4af3-ff92-573ffd37c791"
      },
      "outputs": [
        {
          "name": "stdout",
          "output_type": "stream",
          "text": [
            "189\n"
          ]
        }
      ],
      "source": [
        "print(len(data))"
      ]
    },
    {
      "cell_type": "code",
      "execution_count": 387,
      "metadata": {
        "colab": {
          "base_uri": "https://localhost:8080/"
        },
        "id": "G5fURkFFWwHn",
        "outputId": "3caca0d2-f2f4-4ad9-b400-e4d70877b5c3"
      },
      "outputs": [
        {
          "name": "stdout",
          "output_type": "stream",
          "text": [
            "Price               PSAR         Close\n",
            "Date                                  \n",
            "2021-05-30  58769.072384  35678.128906\n",
            "2021-06-04  56749.205656  36894.406250\n",
            "2021-06-09  54890.928266  37345.121094\n",
            "2021-06-14  52649.421963  40218.476562\n",
            "2021-06-19  50632.066290  35615.871094\n",
            "2021-06-24  48816.446184  34662.437500\n",
            "2021-06-29  46844.698424  35867.777344\n",
            "2021-07-04  45109.560394  35287.781250\n",
            "2021-07-09  43582.638928  33798.011719\n",
            "2021-07-14  42005.712798  32822.347656\n"
          ]
        }
      ],
      "source": [
        "print(btc_data[['PSAR', 'Close']][103:113])"
      ]
    },
    {
      "cell_type": "code",
      "execution_count": 448,
      "metadata": {
        "id": "1zPAbAgR9sba"
      },
      "outputs": [],
      "source": [
        "def strategy_self(data, thresholds):\n",
        "    \"\"\"\n",
        "    '0' : for No Action Taken\n",
        "    '2' : for Long Entry\n",
        "    '-2' : for Long Exit\n",
        "    '1' : for Short Entry\n",
        "    '-1' : for Short Exit\n",
        "    \"\"\"\n",
        "    data['signals'] = 0\n",
        "    sample_number = 0\n",
        "    total_samples = len(data)\n",
        "    position = \"NONE\"  # No position initially\n",
        "\n",
        "    action_taken = 0\n",
        "    threshold_low, threshold_high = thresholds\n",
        "    while sample_number < total_samples:\n",
        "        action_taken = 0\n",
        "        cur_row = data.iloc[sample_number]\n",
        "        prev_row = data.iloc[sample_number - 1] if sample_number > 0 else cur_row\n",
        "\n",
        "        if cur_row['P_EMA_RSI'] > threshold_high:\n",
        "            market_scenario = \"Uptrend\"\n",
        "        elif cur_row['P_EMA_RSI'] < threshold_low:\n",
        "            market_scenario = \"Downtrend\"\n",
        "        else:\n",
        "            market_scenario = \"Fluctuating\"\n",
        "\n",
        "\n",
        "        if market_scenario == \"Fluctuating\":\n",
        "            if cur_row['RSI'] > 55 and prev_row['RSI'] > cur_row['RSI']:  # Weakening Momentum - Bearish Reversal\n",
        "                action_taken = 1\n",
        "                if position == \"NONE\":\n",
        "                    data.at[cur_row.name, 'signals'] = 1\n",
        "                    position = \"SHORT\"\n",
        "                elif position == 'LONG':\n",
        "                    data.at[cur_row.name, 'signals'] = -2\n",
        "                    position = \"NONE\"\n",
        "            elif cur_row['RSI'] < 45 and prev_row['RSI'] < cur_row['RSI']:    # Weakening Momentum - Bullish Reversal\n",
        "                action_taken = 1\n",
        "                if position == \"NONE\":\n",
        "                    data.at[cur_row.name, 'signals'] = 2\n",
        "                    position = \"LONG\"\n",
        "                elif position == 'SHORT':\n",
        "                    data.at[cur_row.name, 'signals'] = -1\n",
        "                    position = \"NONE\"\n",
        "\n",
        "\n",
        "        elif market_scenario == \"Downtrend\":\n",
        "            if cur_row['PSAR'] <= cur_row['Close'] and prev_row['PSAR'] >= cur_row['PSAR']:\n",
        "                action_taken = 1\n",
        "                if position == \"NONE\":\n",
        "                    data.at[cur_row.name, 'signals'] = 2\n",
        "                    position = \"LONG\"\n",
        "                elif position == 'SHORT':\n",
        "                    data.at[cur_row.name, 'signals'] = -1\n",
        "                    position = \"NONE\"\n",
        "\n",
        "            # Hammer Condition\n",
        "            elif (cur_row['Low'] < cur_row['Open']) and (cur_row['Low'] < cur_row['Close']) and \\\n",
        "              (cur_row['Close'] - cur_row['Low'] > 2 * abs(cur_row['Open'] - cur_row['Close'])) and \\\n",
        "              (cur_row['High'] - cur_row['Close'] < 0.3 * (cur_row['Close'] - cur_row['Low'])):\n",
        "                action_taken = 1\n",
        "                if position == \"NONE\":\n",
        "                    data.at[cur_row.name, 'signals'] = 2\n",
        "                    position = \"LONG\"\n",
        "                elif position == 'SHORT':\n",
        "                    data.at[cur_row.name, 'signals'] = -1\n",
        "                    position = \"NONE\"\n",
        "\n",
        "            else:\n",
        "                action_taken = 1\n",
        "                if position == \"NONE\":\n",
        "                    data.at[cur_row.name, 'signals'] = 1\n",
        "                    position = \"SHORT\"\n",
        "                elif position == 'LONG':\n",
        "                    data.at[cur_row.name, 'signals'] = -2\n",
        "                    position = \"NONE\"\n",
        "\n",
        "\n",
        "        elif market_scenario == \"Uptrend\":\n",
        "            if cur_row['EMA9'] > cur_row['EMA20']:\n",
        "                action_taken = 1\n",
        "                if position == \"NONE\":\n",
        "                    data.at[cur_row.name, 'signals'] = 2\n",
        "                    position = \"LONG\"\n",
        "                elif position == 'SHORT':\n",
        "                    data.at[cur_row.name, 'signals'] = -1\n",
        "                    position = \"NONE\"\n",
        "            else:\n",
        "                action_taken = 1\n",
        "                if position == \"NONE\":\n",
        "                    data.at[cur_row.name, 'signals'] = 1\n",
        "                    position = \"SHORT\"\n",
        "                elif position == 'LONG':\n",
        "                    data.at[cur_row.name, 'signals'] = -2\n",
        "                    position = \"NONE\"\n",
        "\n",
        "\n",
        "        # Additional cross strategy if no action taken\n",
        "        if not action_taken:\n",
        "            res = strategy_cross(sample_number)\n",
        "            if res == 1:\n",
        "                if position == \"NONE\":\n",
        "                    data.at[cur_row.name, 'signals'] = 2\n",
        "                    position = \"LONG\"\n",
        "                elif position == 'SHORT':\n",
        "                    data.at[cur_row.name, 'signals'] = -1\n",
        "                    position = \"NONE\"\n",
        "            elif res == -1:\n",
        "                if position == \"NONE\":\n",
        "                    data.at[cur_row.name, 'signals'] = 1\n",
        "                    position = \"SHORT\"\n",
        "                elif position == 'LONG':\n",
        "                    data.at[cur_row.name, 'signals'] = -2\n",
        "                    position = \"NONE\"\n",
        "\n",
        "        sample_number += 1\n",
        "\n",
        "    if position == \"LONG\":\n",
        "        data.at[data.index[-1], 'signals'] = -2  # Exit Long position\n",
        "    elif position == \"SHORT\":\n",
        "        data.at[data.index[-1], 'signals'] = -1  # Exit Short position\n",
        "\n",
        "    return data\n"
      ]
    },
    {
      "cell_type": "code",
      "execution_count": 449,
      "metadata": {
        "id": "OqMl3TPN9kPy"
      },
      "outputs": [],
      "source": [
        "def strategy_cross(sample_no):\n",
        "    if (sample_no + window_size >= len(eth_data)):\n",
        "      return 0\n",
        "    eth_row = eth_data.iloc[sample_no]\n",
        "    prev_eth_row = eth_data.iloc[sample_no - 1] if sample_no > 0 else eth_row\n",
        "\n",
        "    btc_row = btc_data.iloc[sample_no]\n",
        "    prev_btc_row = btc_data.iloc[sample_no - 1] if sample_no > 0 else btc_row\n",
        "\n",
        "    dtw_row = data.iloc[sample_no]\n",
        "    prev_dtw_row = data.iloc[sample_no - 1] if sample_no > 0 else dtw_row\n",
        "\n",
        "\n",
        "    if dtw_row['DTW_Distance'] < dtw_threshold:\n",
        "        if (btc_row['ATR'] > prev_btc_row['ATR'] and eth_row['ATR'] > prev_eth_row['ATR']):\n",
        "            if eth_row['MACD_Histogram'] > 0 and eth_row['Close'] > eth_row['EMA20']:\n",
        "                return 1  # LONG\n",
        "            elif eth_row['MACD_Histogram'] < 0 and eth_row['Close'] < eth_row['EMA20']:\n",
        "                return -1  # SHORT\n",
        "\n",
        "    return 0\n"
      ]
    },
    {
      "cell_type": "code",
      "execution_count": 450,
      "metadata": {
        "id": "guJGyqPxePzN"
      },
      "outputs": [],
      "source": [
        "def calculate_performance_metrics(df, initial_capital=10000):\n",
        "    \"\"\"\n",
        "    Calculate comprehensive trading strategy performance metrics\n",
        "    \"\"\"\n",
        "\n",
        "\n",
        "    trades = []\n",
        "    current_trade = None\n",
        "\n",
        "    portfolio_values = [initial_capital]\n",
        "    current_capital = initial_capital\n",
        "\n",
        "    peak_capital = initial_capital\n",
        "    max_drawdown = 0\n",
        "    max_adverse_excursion = 0\n",
        "\n",
        "    for i in range(len(df)):\n",
        "        if df['signals'].iloc[i] == 2:\n",
        "            if current_trade is None:\n",
        "                current_trade = {\n",
        "                    'type': 'long',\n",
        "                    'entry_price': df['Close'].iloc[i],\n",
        "                    'entry_date': df.index[i],\n",
        "                    'entry_signal_index': i\n",
        "                }\n",
        "\n",
        "        elif df['signals'].iloc[i] == 1:\n",
        "            if current_trade is None:\n",
        "                current_trade = {\n",
        "                    'type': 'short',\n",
        "                    'entry_price': df['Close'].iloc[i],\n",
        "                    'entry_date': df.index[i],\n",
        "                    'entry_signal_index': i\n",
        "                }\n",
        "\n",
        "        elif df['signals'].iloc[i] == -2 and current_trade and current_trade['type'] == 'long':\n",
        "            exit_price = df['Close'].iloc[i]\n",
        "            trade_return = (exit_price - current_trade['entry_price']) / current_trade['entry_price']\n",
        "\n",
        "            # Received capital\n",
        "            trade_capital = current_capital * (1 + trade_return)\n",
        "\n",
        "            current_trade['exit_price'] = exit_price\n",
        "            current_trade['exit_date'] = df.index[i]\n",
        "            current_trade['return'] = trade_return\n",
        "            trades.append(current_trade)\n",
        "\n",
        "            # Update current capital and reset trade\n",
        "            current_capital = trade_capital\n",
        "            current_trade = None\n",
        "\n",
        "        elif df['signals'].iloc[i] == -1 and current_trade and current_trade['type'] == 'short':\n",
        "            exit_price = df['Close'].iloc[i]\n",
        "            trade_return = (current_trade['entry_price'] - exit_price) / current_trade['entry_price']\n",
        "\n",
        "            # Received capital\n",
        "            trade_capital = current_capital * (1 + trade_return)\n",
        "\n",
        "            current_trade['exit_price'] = exit_price\n",
        "            current_trade['exit_date'] = df.index[i]\n",
        "            current_trade['return'] = trade_return\n",
        "            trades.append(current_trade)\n",
        "\n",
        "            current_capital = trade_capital\n",
        "            current_trade = None\n",
        "\n",
        "        portfolio_values.append(current_capital)\n",
        "\n",
        "        if current_capital > peak_capital:\n",
        "            peak_capital = current_capital\n",
        "\n",
        "        current_drawdown = (peak_capital - current_capital) / peak_capital\n",
        "        max_drawdown = max(max_drawdown, current_drawdown)\n",
        "\n",
        "    trades_df = pd.DataFrame(trades)\n",
        "\n",
        "    metrics = {\n",
        "        'Total Trades': len(trades),\n",
        "        'Win Rate (%)': calculate_win_rate(trades_df),\n",
        "        'Net Profit (%) (Compounded)': calculate_net_profit(initial_capital, current_capital),\n",
        "        'Sharpe Ratio': calculate_sharpe_ratio(np.diff(portfolio_values)),\n",
        "        'Sortino Ratio': calculate_sortino_ratio(np.diff(portfolio_values)),\n",
        "        'Risk-Reward Ratio': calculate_risk_reward_ratio(trades_df),\n",
        "        'Max Drawdown (%)': max_drawdown * 100,\n",
        "        'Max Adverse Excursion (%)': calculate_max_adverse_excursion(trades_df),\n",
        "        'Max Trade Duration (days)': calculate_max_trade_duration(trades_df),\n",
        "        'Average Trade Duration (days)': calculate_avg_trade_duration(trades_df),\n",
        "    }\n",
        "\n",
        "    return metrics\n",
        "\n",
        "def calculate_win_rate(trades_df):\n",
        "    wins = trades_df[trades_df['return'] > 0].shape[0]\n",
        "    return (wins / len(trades_df)) * 100 if len(trades_df) > 0 else 0\n",
        "\n",
        "def calculate_net_profit(initial_capital, final_capital):\n",
        "    return (final_capital - initial_capital) / initial_capital * 100\n",
        "\n",
        "def calculate_sharpe_ratio(daily_returns):\n",
        "    mean_return = np.mean(daily_returns)\n",
        "    std_dev = np.std(daily_returns)\n",
        "    return mean_return / std_dev if std_dev != 0 else 0\n",
        "\n",
        "def calculate_sortino_ratio(daily_returns):\n",
        "    downside_returns = [r for r in daily_returns if r < 0]\n",
        "    downside_deviation = np.std(downside_returns)\n",
        "    mean_return = np.mean(daily_returns)\n",
        "    return mean_return / downside_deviation if downside_deviation != 0 else 0\n",
        "\n",
        "def calculate_risk_reward_ratio(trades_df):\n",
        "\n",
        "\n",
        "    avg_win = np.mean(trades_df[trades_df['return'] > 0]['return'])\n",
        "    avg_loss = np.mean(trades_df[trades_df['return'] < 0]['return'])\n",
        "    return avg_win / abs(avg_loss) if avg_loss != 0 else 0\n",
        "\n",
        "def calculate_max_adverse_excursion(trades_df):\n",
        "\n",
        "    return np.min(trades_df['return']) if len(trades_df) > 0 else 0\n",
        "\n",
        "def calculate_max_trade_duration(trades_df):\n",
        "    return (trades_df['exit_date'] - trades_df['entry_date']).max().days if len(trades_df) > 0 else 0\n",
        "\n",
        "def calculate_avg_trade_duration(trades_df):\n",
        "    return (trades_df['exit_date'] - trades_df['entry_date']).mean().days if len(trades_df) > 0 else 0\n"
      ]
    },
    {
      "cell_type": "code",
      "execution_count": 451,
      "metadata": {
        "id": "Tp1eFDaASvxr"
      },
      "outputs": [],
      "source": [
        "import numpy as np\n",
        "import random\n",
        "\n",
        "class Particle:\n",
        "    def __init__(self, dim, position_bounds, velocity_bounds):\n",
        "        lower = 45.0\n",
        "        upper = 70.0\n",
        "        self.position = np.array([lower, upper])\n",
        "        self.velocity = np.array([random.uniform(velocity_bounds[0], velocity_bounds[1]) for _ in range(dim)])\n",
        "        self.best_position = self.position.copy()\n",
        "        self.best_fitness = float('-inf')\n",
        "\n",
        "    def ensure_position_bounds(self, position_bounds):\n",
        "        self.position[0] = np.clip(self.position[0], position_bounds[0], self.position[1] - 1)\n",
        "        self.position[1] = np.clip(self.position[1], self.position[0] + 1, position_bounds[1])\n",
        "\n",
        "\n",
        "def fitness_function(metrics):\n",
        "    net_profit = (metrics['Net Profit (%) (Compounded)'])/100\n",
        "    max_drawdown = (metrics['Max Drawdown (%)'])/100\n",
        "    win_rate = (metrics['Win Rate (%)'])/100\n",
        "\n",
        "    return net_profit - 0.5 * max_drawdown + 0.5 * win_rate\n",
        "\n",
        "def evaluate_fitness(position, data):\n",
        "    thresholds = position\n",
        "    strategy_data = strategy_self(data.copy(), thresholds)\n",
        "    metrics = calculate_performance_metrics(strategy_data)\n",
        "    return fitness_function(metrics)\n",
        "\n",
        "\n",
        "def particle_swarm_optimization(dim, data, n_particles=20, n_iterations=100, position_bounds=(30, 80), velocity_bounds=(-1, 1)):\n",
        "    particles = [Particle(dim, position_bounds, velocity_bounds) for _ in range(n_particles)]\n",
        "    global_best_position = particles[0].position.copy()\n",
        "    global_best_fitness = float('-inf')\n",
        "    inertia_weight = 0.7\n",
        "    cognitive_coeff = 1.5\n",
        "    social_coeff = 1.5\n",
        "\n",
        "    for _ in range(n_iterations):\n",
        "        for particle in particles:\n",
        "            fitness = evaluate_fitness(particle.position, data)\n",
        "            if fitness > particle.best_fitness:\n",
        "                particle.best_fitness = fitness\n",
        "                particle.best_position = particle.position.copy()\n",
        "            if fitness > global_best_fitness:\n",
        "                global_best_fitness = fitness\n",
        "                global_best_position = particle.position.copy()\n",
        "\n",
        "            cognitive_velocity = cognitive_coeff * random.random() * (particle.best_position - particle.position)\n",
        "            social_velocity = social_coeff * random.random() * (global_best_position - particle.position)\n",
        "            particle.velocity = inertia_weight * particle.velocity + cognitive_velocity + social_velocity\n",
        "            particle.position += particle.velocity\n",
        "            particle.ensure_position_bounds(position_bounds)\n",
        "\n",
        "    return global_best_position, global_best_fitness\n"
      ]
    },
    {
      "cell_type": "code",
      "execution_count": 452,
      "metadata": {
        "id": "5IL0iLqKhwez"
      },
      "outputs": [],
      "source": [
        "def plot_heikin_ashi_with_signals(eth_data, signals):\n",
        "    heikin_ashi = eth_data.copy()\n",
        "    heikin_ashi['HA-Close'] = (eth_data['Open'] + eth_data['High'] + eth_data['Low'] + eth_data['Close']) / 4\n",
        "    heikin_ashi['HA-Open'] = (eth_data['Open'] + eth_data['Close']) / 2\n",
        "    for i in range(1, len(heikin_ashi)):\n",
        "        heikin_ashi['HA-Open'].iloc[i] = (heikin_ashi['HA-Open'].iloc[i - 1] + heikin_ashi['HA-Close'].iloc[i - 1]) / 2\n",
        "    heikin_ashi['HA-High'] = heikin_ashi[['High', 'HA-Open', 'HA-Close']].max(axis=1)\n",
        "    heikin_ashi['HA-Low'] = heikin_ashi[['Low', 'HA-Open', 'HA-Close']].min(axis=1)\n",
        "\n",
        "    signal_dates = heikin_ashi.index[:len(signals)]\n",
        "\n",
        "    long_entry_signals = [i for i, signal in enumerate(signals) if signal == 2]\n",
        "    long_exit_signals = [i for i, signal in enumerate(signals) if signal == -2]\n",
        "    short_signals = [i for i, signal in enumerate(signals) if signal == 1]\n",
        "    short_exit_signals = [i for i, signal in enumerate(signals) if signal == -1]\n",
        "\n",
        "    fig = go.Figure(data=[\n",
        "        go.Candlestick(\n",
        "            x=heikin_ashi.index,\n",
        "            open=heikin_ashi['HA-Open'],\n",
        "            high=heikin_ashi['HA-High'],\n",
        "            low=heikin_ashi['HA-Low'],\n",
        "            close=heikin_ashi['HA-Close'],\n",
        "            increasing_line_color='green',\n",
        "            decreasing_line_color='red'\n",
        "        )\n",
        "    ])\n",
        "\n",
        "    fig.add_trace(go.Scatter(\n",
        "        x=heikin_ashi.index[long_entry_signals],\n",
        "        y=heikin_ashi['HA-Close'].iloc[long_entry_signals],\n",
        "        mode='markers',\n",
        "        marker=dict(color='darkblue', size=12, symbol='triangle-up'),\n",
        "        name='Long Entry Signal'\n",
        "    ))\n",
        "\n",
        "    fig.add_trace(go.Scatter(\n",
        "        x=heikin_ashi.index[long_exit_signals],\n",
        "        y=heikin_ashi['HA-Close'].iloc[long_exit_signals],\n",
        "        mode='markers',\n",
        "        marker=dict(color='darkred', size=12, symbol='triangle-down'),\n",
        "        name='Long Exit Signal'\n",
        "    ))\n",
        "\n",
        "    fig.add_trace(go.Scatter(\n",
        "        x=heikin_ashi.index[short_signals],\n",
        "        y=heikin_ashi['HA-Close'].iloc[short_signals],\n",
        "        mode='markers',\n",
        "        marker=dict(color='darkorange', size=12, symbol='triangle-left'),\n",
        "        name='Short Signal'\n",
        "    ))\n",
        "\n",
        "    fig.add_trace(go.Scatter(\n",
        "        x=heikin_ashi.index[short_exit_signals],\n",
        "        y=heikin_ashi['HA-Close'].iloc[short_exit_signals],\n",
        "        mode='markers',\n",
        "        marker=dict(color='purple', size=12, symbol='triangle-right'),\n",
        "        name='Short Exit Signal'\n",
        "    ))\n",
        "\n",
        "    fig.update_layout(\n",
        "        title='Ethereum (ETH-USD) Heikin-Ashi Candlestick Chart with Trade Signals',\n",
        "        xaxis_title='Date',\n",
        "        yaxis_title='Price (USD)',\n",
        "        xaxis_rangeslider_visible=False\n",
        "    )\n",
        "\n",
        "    fig.show()\n"
      ]
    },
    {
      "cell_type": "code",
      "execution_count": 453,
      "metadata": {
        "id": "CSdQ1Qulfhc9"
      },
      "outputs": [],
      "source": [
        "best_thresholds, best_fitness = particle_swarm_optimization(dim=2, n_particles=30, n_iterations=100, data=btc_data)\n",
        "signals=strategy_self(btc_data,best_thresholds)"
      ]
    },
    {
      "cell_type": "code",
      "execution_count": 454,
      "metadata": {
        "colab": {
          "base_uri": "https://localhost:8080/",
          "height": 542
        },
        "id": "bTOOsBhLhykb",
        "outputId": "1edee0ed-cdb2-4ed1-c6c9-c4f3348ba31e"
      },
      "outputs": [
        {
          "data": {
            "text/html": [
              "<html>\n",
              "<head><meta charset=\"utf-8\" /></head>\n",
              "<body>\n",
              "    <div>            <script src=\"https://cdnjs.cloudflare.com/ajax/libs/mathjax/2.7.5/MathJax.js?config=TeX-AMS-MML_SVG\"></script><script type=\"text/javascript\">if (window.MathJax && window.MathJax.Hub && window.MathJax.Hub.Config) {window.MathJax.Hub.Config({SVG: {font: \"STIX-Web\"}});}</script>                <script type=\"text/javascript\">window.PlotlyConfig = {MathJaxConfig: 'local'};</script>\n",
              "        <script charset=\"utf-8\" src=\"https://cdn.plot.ly/plotly-2.35.2.min.js\"></script>                <div id=\"07c6f030-417b-4cb6-9d0f-9f0b5b0ccc99\" class=\"plotly-graph-div\" style=\"height:525px; width:100%;\"></div>            <script type=\"text/javascript\">                                    window.PLOTLYENV=window.PLOTLYENV || {};                                    if (document.getElementById(\"07c6f030-417b-4cb6-9d0f-9f0b5b0ccc99\")) {                    Plotly.newPlot(                        \"07c6f030-417b-4cb6-9d0f-9f0b5b0ccc99\",                        [{\"close\":[7206.0853271484375,7592.7078857421875,8111.9324951171875,8748.7060546875,8676.278076171875,8472.284912109375,9402.831298828125,9415.4609375,9980.625,10104.816162109375,9597.2294921875,9487.694091796875,8590.0556640625,9100.1572265625,7853.7867431640625,5090.07421875,6175.6365966796875,6679.509521484375,6436.9820556640625,6813.2525634765625,7068.8997802734375,6762.4346923828125,7036.1563720703125,7570.86376953125,8857.532470703125,8958.7861328125,9084.572021484375,9519.9287109375,9625.076416015625,8840.928955078125,9552.52197265625,9717.337158203125,9767.787353515625,9423.551513671875,9353.37109375,9476.090087890625,9152.583251953125,9113.411865234375,9343.0849609375,9234.35498046875,9160.713623046875,9556.799560546875,11043.489990234375,11188.90283203125,11679.27392578125,11596.452880859375,12133.34033203125,11654.4736328125,11432.45849609375,11658.61865234375,10241.552001953125,10430.814208984375,10933.57275390625,10487.221923828125,10737.26513671875,10567.580810546875,10628.834716796875,11471.788330078125,11337.9580078125,12911.5537109375,13387.491943359375,13752.12890625,15568.971923828125,15549.629150390625,16342.14404296875,18661.13232421875,17774.44580078125,19151.166015625,19196.923828125,18052.705078125,20371.66015625,23124.2216796875,25588.703125,28822.541015625,32657.06201171875,39003.8701171875,37554.84375,35386.6669921875,32885.68017578125,34085.087890625,37327.7119140625,46459.1953125,48108.486328125,53653.7607421875,49261.013671875,47422.4638671875,48554.08984375,56585.9892578125,55758.4736328125,57651.712890625,53384.373046875,58876.388671875,58851.21875,59340.595703125,63104.9609375,55666.2548828125,49180.6474609375,55587.2900390625,55389.1474609375,56925.3701171875,48479.8720703125,38762.501953125,38388.9462890625,35051.7353515625,37774.2744140625,35193.83349609375,39742.7734375,35715.314453125,33989.826171875,35284.482421875,35071.84765625,33255.21435546875,32561.67919921875,31266.859375,33950.3564453125,39987.2509765625,38715.8662109375,44246.7041015625,46086.8515625,44951.0068359375,49598.626953125,48939.4326171875,49282.828125,48902.6455078125,45606.3095703125,47507.9921875,42214.1787109375,42993.4482421875,47899.12890625,54502.17578125,56418.435546875,60812.8154296875,61691.994140625,59619.439453125,61109.7607421875,61087.705078125,64922.0888671875,61654.9931640625,59271.0849609375,56320.82421875,57433.1396484375,49551.6650390625,48256.9248046875,48380.3359375,47955.595703125,50514.4228515625,46942.07421875,44798.908203125,41431.88671875,43168.2509765625,41627.5732421875,36708.2021484375,37943.392578125,39317.888671875,44099.0673828125,42300.5126953125,40070.029296875,37259.80859375,43823.83203125,38919.001953125,39166.013671875,40241.8251953125,41111.6455078125,44438.2392578125,46375.84765625,46207.8623046875,42596.5869140625,40244.35546875,41490.880859375,39690.26171875,38197.4716796875,37979.1708984375,30959.41796875,30559.90771484375,29742.6103515625,29689.5576171875,30605.73974609375,29742.40576171875,30239.21337890625,22166.13720703125,19578.787109375,21141.68359375,20171.78515625,19712.59765625,21658.03271484375,20315.134765625,22801.9130859375,22588.87890625,23856.45166015625,23038.57421875,23592.3125,24508.10546875,23323.802734375,21382.61865234375,19853.4296875,20078.04443359375,19049.91162109375,22045.9189453125,19961.04345703125,18955.17578125,19396.62744140625,19174.2216796875,19735.32177734375,19110.76220703125,19407.1142578125,19190.220703125,20542.01416015625,20496.82666015625,21119.27783203125,17202.99267578125,16736.046875,15992.194580078125,16517.2373046875,17055.25537109375,17024.1318359375,17142.83984375,17025.564453125,16848.69384765625,16873.63671875],\"decreasing\":{\"line\":{\"color\":\"red\"}},\"high\":[7254.33056640625,7781.8671875,8218.359375,8846.4609375,8755.7060546875,8602.4013671875,9521.7060546875,9701.2998046875,10165.765625,10341.5556640625,9841.431696534157,9719.330594360828,9603.512343078852,9167.6953125,9098.470615066588,8476.128679115325,6783.101448932663,6735.4638671875,6579.439272145275,6883.4140625,7303.8154296875,6928.66455078125,7240.29052734375,7641.36376953125,9440.650390625,9062.4150390625,9595.5810546875,9755.828125,9804.7939453125,9391.310076327169,9704.0302734375,9887.6103515625,9836.369140625,9646.808152353457,9535.179833012666,9680.3671875,9460.182775635978,9306.383013794552,9431.37890625,9283.841796875,9255.423090347365,9623.3369140625,11304.3974609375,11453.0791015625,11800.064453125,11796.396484375,12335.70703125,11763.30917735684,11708.891405084669,11964.8232421875,11614.646801466479,10928.099401709802,11037.4208984375,10806.514779626668,10803.9765625,10692.066744223073,10680.5078125,11698.4677734375,11386.26171875,13161.59375,13759.6689453125,13862.033203125,15903.4375,15916.2607421875,16816.181640625,18936.62109375,18866.28515625,19845.974609375,19390.5,18753.074994182352,21458.908203125,24059.982421875,26718.0703125,29244.876953125,34437.58984375,41420.19140625,39577.7109375,36378.328125,35631.243535602654,34834.70703125,38592.17578125,48003.72265625,49487.640625,56113.65234375,51290.13671875,49784.015625,49147.21875,58091.0625,56833.1796875,58767.8984375,55892.66757437717,59930.02734375,59891.296875,61276.6640625,63821.671875,60838.71354968757,58252.484216250035,57900.71875,57911.36328125,59519.35546875,55972.95390853516,52226.41298942383,45494.457471274414,41941.70188016846,39242.484375,38135.49651496399,40978.36328125,38203.71922151443,36959.516837319716,36542.109375,35937.56640625,35225.71230974309,34240.46333260592,33401.07126591234,34490.390625,40593.0703125,39750.03125,45282.3515625,47831.9765625,45952.0625,50482.078125,49283.50390625,50343.421875,52853.765625,48753.94117688002,48160.921875,47344.058780548134,44779.11874574282,48282.0625,55338.625,57627.87890625,61645.5234375,63715.0234375,61435.18359375,62419.00390625,61590.68359375,65579.015625,63721.1953125,62231.955259607144,60751.52011027232,59041.68359375,57984.655906474334,53768.16047276842,51012.54263872796,49696.43928811398,51196.37890625,49670.22017359099,48306.147196170496,46552.52769964775,43992.207209198874,43580.22909288069,42603.901167534095,39656.051657985794,41527.78515625,44727.80078125,42775.77734375,41939.724542100674,41004.87691948784,44793.6015625,41478.08739393446,40198.54467352973,41465.453125,41454.41015625,44735.99609375,47512.02734375,47106.140625,45319.779079371554,43958.18299671703,42126.30078125,41796.075046054255,40743.16838240213,39789.28125,38724.74546474116,34842.08171674558,32700.994715794666,31221.802533678583,31949.630859375,30530.709910763395,30609.310546875,30187.885607573662,26177.011407302456,22877.89925833873,22009.791426044365,21090.788291147182,21877.138671875,21029.86284427117,23666.962890625,22974.001953125,24294.787109375,23578.650390625,24203.689453125,24860.05078125,23908.171017093915,23615.98687573446,22499.302764039105,21176.366225769554,20627.205329681652,22439.181640625,20942.238710350102,20451.641083690676,20338.455078125,19550.017936938293,20041.0859375,19548.720792828324,19635.802734375,19368.427878871145,20854.044921875,20647.2890625,21345.376953125,20661.51288744898,18932.252781615112,17834.149828307556,16913.17220419284,17197.498046875,17091.86328125,17245.634765625,17505.525390625,17037.162424838058,16942.928136247152],\"increasing\":{\"line\":{\"color\":\"green\"}},\"low\":[7174.9443359375,7201.809265136719,7397.258575439453,7754.59553527832,8251.65079498291,8325.498046875,8468.124673843384,8935.477986335754,9175.469461917877,9578.047230958939,9507.900390625,9305.021484375,8471.212890625,9032.0791015625,7642.8125,4575.35791015625,5932.8232421875,6479.369022806175,6374.162109375,6508.210663904669,6660.731613690616,6633.40283203125,6813.6251946824195,6924.890783376366,7247.877276453808,8052.7048735784665,8395.107421875,8795.158762339928,9157.543736638714,8719.66796875,9116.119515702647,9334.320744179448,9525.828951191286,9347.59375,9274.2958984375,9278.2333984375,9041.8759765625,9053.6298828125,9209.897439514463,9171.6611328125,9097.6328125,9208.06835669712,9382.433958621998,10212.961974428186,10700.932403229719,11190.103164505485,11393.278022682429,11559.9208984375,11316.4228515625,11290.7939453125,9916.4931640625,10292.38671875,10679.456805347088,10382.7265625,10622.921875,10416.689453125,10562.5068359375,10629.329247090925,11050.558788584525,11194.258398198512,12052.906054568006,12720.19899896369,13236.163952606845,14402.567938217486,14976.098544304055,15659.121293636403,16351.03515625,17467.286304854413,18309.226160239705,17619.533203125,18402.890036153676,19387.27509620184,21255.74838794467,23422.225756472333,26122.383386048667,29389.722698883706,34196.7964080356,33570.4765625,32087.787109375,32940.1875,34171.77487315847,35749.743393610486,41104.46935305525,44606.47784059012,47213.5,45115.09375,47257.52734375,48431.55250907985,52508.770883446174,54133.62225812934,51579.85546875,54638.52031062609,56757.454491250544,57804.33662062527,58572.466161875134,53448.046875,47159.484375,53129.6015625,52969.0546875,54071.45703125,46664.140625,35050.6171875,36581.4296875,33520.73828125,35717.72265625,32475.865234375,36664.66500552887,34933.0625,32385.21484375,34252.484375,34396.4765625,32318.880859375,31639.125,30563.734375,32333.96532045617,33142.16088288433,36564.705929723415,37640.28607033046,40943.49508594648,43515.173324223244,44233.09008008037,46915.85851660269,47927.645566895095,43285.20703125,44790.4609375,46832.5234375,40625.6328125,42190.6328125,43886.28349396516,45892.70620010758,50197.44099067879,53307.938268776896,57060.3768492322,58208.1875,59497.812474026796,60163.78125,60695.74584311608,59016.3359375,58618.9296875,53569.765625,56553.08203125,47281.03515625,46942.34765625,47529.87890625,46698.7734375,48826.01749561949,45819.953125,42798.22265625,39796.5703125,42669.03515625,40672.82421875,35779.4296875,37437.7109375,37093.62890625,39058.805394965195,41578.93638888885,39713.05859375,34459.21875,39132.34275661892,38211.6484375,38347.43359375,39022.34765625,39962.052184007436,40536.84884590997,42487.54405186123,44431.695854055615,42021.20703125,39866.83203125,40961.09765625,38338.37890625,37697.94140625,35856.515625,29944.802734375,29527.740234375,28793.60546875,29384.94921875,29303.572265625,29500.005859375,30020.265625,20950.818359375,18067.15234375,20777.51171875,19937.791015625,19063.06640625,20401.69297369859,19689.2578125,20672.498804948085,21737.205945442794,22163.042425846397,22747.8359375,23024.16063087566,23308.23656543783,23177.6015625,20955.138671875,19616.814453125,19814.765625,18644.466796875,19838.5584753877,19777.033203125,18415.591796875,18915.66796875,18970.62109375,19362.1198083129,19029.7578125,19173.333984375,19132.244140625,19279.324290998073,19910.669225577163,20203.747942866707,16543.482421875,16430.111328125,15599.046875,16416.228515625,16715.204754440172,16885.23006276696,16954.68094935223,16584.701171875,16755.912109375,16812.369140625],\"open\":[7197.533203125,7201.809265136719,7397.258575439453,7754.59553527832,8251.65079498291,8463.964435577393,8468.124673843384,8935.477986335754,9175.469461917877,9578.047230958939,9841.431696534157,9719.330594360828,9603.512343078852,9096.784003570676,9098.470615066588,8476.128679115325,6783.101448932663,6479.369022806175,6579.439272145275,6508.210663904669,6660.731613690616,6864.815696982027,6813.6251946824195,6924.890783376366,7247.877276453808,8052.7048735784665,8505.745503195483,8795.158762339928,9157.543736638714,9391.310076327169,9116.119515702647,9334.320744179448,9525.828951191286,9646.808152353457,9535.179833012666,9444.275463381333,9460.182775635978,9306.383013794552,9209.897439514463,9276.49120022598,9255.423090347365,9208.06835669712,9382.433958621998,10212.961974428186,10700.932403229719,11190.103164505485,11393.278022682429,11763.30917735684,11708.891405084669,11570.67495058921,11614.646801466479,10928.099401709802,10679.456805347088,10806.514779626668,10646.868351727397,10692.066744223073,10629.823777384974,10629.329247090925,11050.558788584525,11194.258398198512,12052.906054568006,12720.19899896369,13236.163952606845,14402.567938217486,14976.098544304055,15659.121293636403,17160.126808927576,17467.286304854413,18309.226160239705,18753.074994182352,18402.890036153676,19387.27509620184,21255.74838794467,23422.225756472333,26122.383386048667,29389.722698883706,34196.7964080356,35875.8200790178,35631.243535602654,34258.46185569195,34171.77487315847,35749.743393610486,41104.46935305525,44606.47784059012,49130.11929138881,49195.566481631904,48309.0151744097,48431.55250907985,52508.770883446174,54133.62225812934,55892.66757437717,54638.52031062609,56757.454491250544,57804.33662062527,58572.466161875134,60838.71354968757,58252.484216250035,53716.56583859377,54651.927938828136,55020.537699882814,55972.95390853516,52226.41298942383,45494.457471274414,41941.70188016846,38496.71861586548,38135.49651496399,36664.66500552887,38203.71922151443,36959.516837319716,35474.671504597354,35379.57696323618,35225.71230974309,34240.46333260592,33401.07126591234,32333.96532045617,33142.16088288433,36564.705929723415,37640.28607033046,40943.49508594648,43515.173324223244,44233.09008008037,46915.85851660269,47927.645566895095,48605.23684594755,48753.94117688002,47180.12537359626,47344.058780548134,44779.11874574282,43886.28349396516,45892.70620010758,50197.44099067879,53307.938268776896,57060.3768492322,59376.1854949286,59497.812474026796,60303.78660810715,60695.74584311608,62808.91735515179,62231.955259607144,60751.52011027232,58536.17216451116,57984.655906474334,53768.16047276842,51012.54263872796,49696.43928811398,48826.01749561949,49670.22017359099,48306.147196170496,46552.52769964775,43992.207209198874,43580.22909288069,42603.901167534095,39656.051657985794,38799.7221180554,39058.805394965195,41578.93638888885,41939.724542100674,41004.87691948784,39132.34275661892,41478.08739393446,40198.54467352973,39682.279172702365,39962.052184007436,40536.84884590997,42487.54405186123,44431.695854055615,45319.779079371554,43958.18299671703,42101.26923273351,41796.075046054255,40743.16838240213,39470.320031044816,38724.74546474116,34842.08171674558,32700.994715794666,31221.802533678583,30455.68007543304,30530.709910763395,30136.557836241074,30187.885607573662,26177.011407302456,22877.89925833873,22009.791426044365,21090.788291147182,20401.69297369859,21029.86284427117,20672.498804948085,21737.205945442794,22163.042425846397,23009.747043001324,23024.16063087566,23308.23656543783,23908.171017093915,23615.98687573446,22499.302764039105,21176.366225769554,20627.205329681652,19838.5584753877,20942.238710350102,20451.641083690676,19703.408432470336,19550.017936938293,19362.1198083129,19548.720792828324,19329.741499929787,19368.427878871145,19279.324290998073,19910.669225577163,20203.747942866707,20661.51288744898,18932.252781615112,17834.149828307556,16913.17220419284,16715.204754440172,16885.23006276696,16954.68094935223,17048.760396551115,17037.162424838058,16942.928136247152],\"x\":[\"2020-01-01T00:00:00\",\"2020-01-06T00:00:00\",\"2020-01-11T00:00:00\",\"2020-01-16T00:00:00\",\"2020-01-21T00:00:00\",\"2020-01-26T00:00:00\",\"2020-01-31T00:00:00\",\"2020-02-05T00:00:00\",\"2020-02-10T00:00:00\",\"2020-02-15T00:00:00\",\"2020-02-20T00:00:00\",\"2020-02-25T00:00:00\",\"2020-03-01T00:00:00\",\"2020-03-06T00:00:00\",\"2020-03-11T00:00:00\",\"2020-03-16T00:00:00\",\"2020-03-21T00:00:00\",\"2020-03-26T00:00:00\",\"2020-03-31T00:00:00\",\"2020-04-05T00:00:00\",\"2020-04-10T00:00:00\",\"2020-04-15T00:00:00\",\"2020-04-20T00:00:00\",\"2020-04-25T00:00:00\",\"2020-04-30T00:00:00\",\"2020-05-05T00:00:00\",\"2020-05-10T00:00:00\",\"2020-05-15T00:00:00\",\"2020-05-20T00:00:00\",\"2020-05-25T00:00:00\",\"2020-05-30T00:00:00\",\"2020-06-04T00:00:00\",\"2020-06-09T00:00:00\",\"2020-06-14T00:00:00\",\"2020-06-19T00:00:00\",\"2020-06-24T00:00:00\",\"2020-06-29T00:00:00\",\"2020-07-04T00:00:00\",\"2020-07-09T00:00:00\",\"2020-07-14T00:00:00\",\"2020-07-19T00:00:00\",\"2020-07-24T00:00:00\",\"2020-07-29T00:00:00\",\"2020-08-03T00:00:00\",\"2020-08-08T00:00:00\",\"2020-08-13T00:00:00\",\"2020-08-18T00:00:00\",\"2020-08-23T00:00:00\",\"2020-08-28T00:00:00\",\"2020-09-02T00:00:00\",\"2020-09-07T00:00:00\",\"2020-09-12T00:00:00\",\"2020-09-17T00:00:00\",\"2020-09-22T00:00:00\",\"2020-09-27T00:00:00\",\"2020-10-02T00:00:00\",\"2020-10-07T00:00:00\",\"2020-10-12T00:00:00\",\"2020-10-17T00:00:00\",\"2020-10-22T00:00:00\",\"2020-10-27T00:00:00\",\"2020-11-01T00:00:00\",\"2020-11-06T00:00:00\",\"2020-11-11T00:00:00\",\"2020-11-16T00:00:00\",\"2020-11-21T00:00:00\",\"2020-11-26T00:00:00\",\"2020-12-01T00:00:00\",\"2020-12-06T00:00:00\",\"2020-12-11T00:00:00\",\"2020-12-16T00:00:00\",\"2020-12-21T00:00:00\",\"2020-12-26T00:00:00\",\"2020-12-31T00:00:00\",\"2021-01-05T00:00:00\",\"2021-01-10T00:00:00\",\"2021-01-15T00:00:00\",\"2021-01-20T00:00:00\",\"2021-01-25T00:00:00\",\"2021-01-30T00:00:00\",\"2021-02-04T00:00:00\",\"2021-02-09T00:00:00\",\"2021-02-14T00:00:00\",\"2021-02-19T00:00:00\",\"2021-02-24T00:00:00\",\"2021-03-01T00:00:00\",\"2021-03-06T00:00:00\",\"2021-03-11T00:00:00\",\"2021-03-16T00:00:00\",\"2021-03-21T00:00:00\",\"2021-03-26T00:00:00\",\"2021-03-31T00:00:00\",\"2021-04-05T00:00:00\",\"2021-04-10T00:00:00\",\"2021-04-15T00:00:00\",\"2021-04-20T00:00:00\",\"2021-04-25T00:00:00\",\"2021-04-30T00:00:00\",\"2021-05-05T00:00:00\",\"2021-05-10T00:00:00\",\"2021-05-15T00:00:00\",\"2021-05-20T00:00:00\",\"2021-05-25T00:00:00\",\"2021-05-30T00:00:00\",\"2021-06-04T00:00:00\",\"2021-06-09T00:00:00\",\"2021-06-14T00:00:00\",\"2021-06-19T00:00:00\",\"2021-06-24T00:00:00\",\"2021-06-29T00:00:00\",\"2021-07-04T00:00:00\",\"2021-07-09T00:00:00\",\"2021-07-14T00:00:00\",\"2021-07-19T00:00:00\",\"2021-07-24T00:00:00\",\"2021-07-29T00:00:00\",\"2021-08-03T00:00:00\",\"2021-08-08T00:00:00\",\"2021-08-13T00:00:00\",\"2021-08-18T00:00:00\",\"2021-08-23T00:00:00\",\"2021-08-28T00:00:00\",\"2021-09-02T00:00:00\",\"2021-09-07T00:00:00\",\"2021-09-12T00:00:00\",\"2021-09-17T00:00:00\",\"2021-09-22T00:00:00\",\"2021-09-27T00:00:00\",\"2021-10-02T00:00:00\",\"2021-10-07T00:00:00\",\"2021-10-12T00:00:00\",\"2021-10-17T00:00:00\",\"2021-10-22T00:00:00\",\"2021-10-27T00:00:00\",\"2021-11-01T00:00:00\",\"2021-11-06T00:00:00\",\"2021-11-11T00:00:00\",\"2021-11-16T00:00:00\",\"2021-11-21T00:00:00\",\"2021-11-26T00:00:00\",\"2021-12-01T00:00:00\",\"2021-12-06T00:00:00\",\"2021-12-11T00:00:00\",\"2021-12-16T00:00:00\",\"2021-12-21T00:00:00\",\"2021-12-26T00:00:00\",\"2021-12-31T00:00:00\",\"2022-01-05T00:00:00\",\"2022-01-10T00:00:00\",\"2022-01-15T00:00:00\",\"2022-01-20T00:00:00\",\"2022-01-25T00:00:00\",\"2022-01-30T00:00:00\",\"2022-02-04T00:00:00\",\"2022-02-09T00:00:00\",\"2022-02-14T00:00:00\",\"2022-02-19T00:00:00\",\"2022-02-24T00:00:00\",\"2022-03-01T00:00:00\",\"2022-03-06T00:00:00\",\"2022-03-11T00:00:00\",\"2022-03-16T00:00:00\",\"2022-03-21T00:00:00\",\"2022-03-26T00:00:00\",\"2022-03-31T00:00:00\",\"2022-04-05T00:00:00\",\"2022-04-10T00:00:00\",\"2022-04-15T00:00:00\",\"2022-04-20T00:00:00\",\"2022-04-25T00:00:00\",\"2022-04-30T00:00:00\",\"2022-05-05T00:00:00\",\"2022-05-10T00:00:00\",\"2022-05-15T00:00:00\",\"2022-05-20T00:00:00\",\"2022-05-25T00:00:00\",\"2022-05-30T00:00:00\",\"2022-06-04T00:00:00\",\"2022-06-09T00:00:00\",\"2022-06-14T00:00:00\",\"2022-06-19T00:00:00\",\"2022-06-24T00:00:00\",\"2022-06-29T00:00:00\",\"2022-07-04T00:00:00\",\"2022-07-09T00:00:00\",\"2022-07-14T00:00:00\",\"2022-07-19T00:00:00\",\"2022-07-24T00:00:00\",\"2022-07-29T00:00:00\",\"2022-08-03T00:00:00\",\"2022-08-08T00:00:00\",\"2022-08-13T00:00:00\",\"2022-08-18T00:00:00\",\"2022-08-23T00:00:00\",\"2022-08-28T00:00:00\",\"2022-09-02T00:00:00\",\"2022-09-07T00:00:00\",\"2022-09-12T00:00:00\",\"2022-09-17T00:00:00\",\"2022-09-22T00:00:00\",\"2022-09-27T00:00:00\",\"2022-10-02T00:00:00\",\"2022-10-07T00:00:00\",\"2022-10-12T00:00:00\",\"2022-10-17T00:00:00\",\"2022-10-22T00:00:00\",\"2022-10-27T00:00:00\",\"2022-11-01T00:00:00\",\"2022-11-06T00:00:00\",\"2022-11-11T00:00:00\",\"2022-11-16T00:00:00\",\"2022-11-21T00:00:00\",\"2022-11-26T00:00:00\",\"2022-12-01T00:00:00\",\"2022-12-06T00:00:00\",\"2022-12-11T00:00:00\",\"2022-12-16T00:00:00\",\"2022-12-21T00:00:00\",\"2022-12-26T00:00:00\"],\"type\":\"candlestick\"},{\"marker\":{\"color\":\"darkblue\",\"size\":12,\"symbol\":\"triangle-up\"},\"mode\":\"markers\",\"name\":\"Long Entry Signal\",\"x\":[\"2020-01-01T00:00:00\",\"2020-06-14T00:00:00\",\"2020-07-29T00:00:00\",\"2020-11-21T00:00:00\",\"2022-03-01T00:00:00\"],\"y\":[7206.0853271484375,9423.551513671875,11043.489990234375,18661.13232421875,43823.83203125],\"type\":\"scatter\"},{\"marker\":{\"color\":\"darkred\",\"size\":12,\"symbol\":\"triangle-down\"},\"mode\":\"markers\",\"name\":\"Long Exit Signal\",\"x\":[\"2020-03-11T00:00:00\",\"2020-07-09T00:00:00\",\"2020-09-22T00:00:00\",\"2021-05-10T00:00:00\",\"2022-03-11T00:00:00\"],\"y\":[7853.7867431640625,9343.0849609375,10487.221923828125,56925.3701171875,39166.013671875],\"type\":\"scatter\"},{\"marker\":{\"color\":\"darkorange\",\"size\":12,\"symbol\":\"triangle-left\"},\"mode\":\"markers\",\"name\":\"Short Signal\",\"x\":[\"2020-03-16T00:00:00\",\"2020-03-31T00:00:00\",\"2020-05-05T00:00:00\",\"2020-10-02T00:00:00\",\"2021-05-25T00:00:00\",\"2021-06-29T00:00:00\",\"2021-07-19T00:00:00\",\"2021-08-03T00:00:00\",\"2022-01-15T00:00:00\",\"2022-02-19T00:00:00\",\"2022-03-16T00:00:00\",\"2022-06-09T00:00:00\",\"2022-07-19T00:00:00\",\"2022-08-03T00:00:00\",\"2022-08-28T00:00:00\"],\"y\":[5090.07421875,6436.9820556640625,8958.7861328125,10567.580810546875,38388.9462890625,35284.482421875,31266.859375,38715.8662109375,43168.2509765625,40070.029296875,40241.8251953125,30239.21337890625,22801.9130859375,23038.57421875,19853.4296875],\"type\":\"scatter\"},{\"marker\":{\"color\":\"purple\",\"size\":12,\"symbol\":\"triangle-right\"},\"mode\":\"markers\",\"name\":\"Short Exit Signal\",\"x\":[\"2020-03-21T00:00:00\",\"2020-04-30T00:00:00\",\"2020-06-09T00:00:00\",\"2020-11-16T00:00:00\",\"2021-06-24T00:00:00\",\"2021-07-14T00:00:00\",\"2021-07-29T00:00:00\",\"2022-01-10T00:00:00\",\"2022-02-14T00:00:00\",\"2022-02-24T00:00:00\",\"2022-06-04T00:00:00\",\"2022-07-14T00:00:00\",\"2022-07-29T00:00:00\",\"2022-08-23T00:00:00\",\"2022-12-26T00:00:00\"],\"y\":[6175.6365966796875,8857.532470703125,9767.787353515625,16342.14404296875,33989.826171875,32561.67919921875,39987.2509765625,41431.88671875,42300.5126953125,37259.80859375,29742.40576171875,20315.134765625,23856.45166015625,21382.61865234375,16873.63671875],\"type\":\"scatter\"}],                        {\"template\":{\"data\":{\"histogram2dcontour\":[{\"type\":\"histogram2dcontour\",\"colorbar\":{\"outlinewidth\":0,\"ticks\":\"\"},\"colorscale\":[[0.0,\"#0d0887\"],[0.1111111111111111,\"#46039f\"],[0.2222222222222222,\"#7201a8\"],[0.3333333333333333,\"#9c179e\"],[0.4444444444444444,\"#bd3786\"],[0.5555555555555556,\"#d8576b\"],[0.6666666666666666,\"#ed7953\"],[0.7777777777777778,\"#fb9f3a\"],[0.8888888888888888,\"#fdca26\"],[1.0,\"#f0f921\"]]}],\"choropleth\":[{\"type\":\"choropleth\",\"colorbar\":{\"outlinewidth\":0,\"ticks\":\"\"}}],\"histogram2d\":[{\"type\":\"histogram2d\",\"colorbar\":{\"outlinewidth\":0,\"ticks\":\"\"},\"colorscale\":[[0.0,\"#0d0887\"],[0.1111111111111111,\"#46039f\"],[0.2222222222222222,\"#7201a8\"],[0.3333333333333333,\"#9c179e\"],[0.4444444444444444,\"#bd3786\"],[0.5555555555555556,\"#d8576b\"],[0.6666666666666666,\"#ed7953\"],[0.7777777777777778,\"#fb9f3a\"],[0.8888888888888888,\"#fdca26\"],[1.0,\"#f0f921\"]]}],\"heatmap\":[{\"type\":\"heatmap\",\"colorbar\":{\"outlinewidth\":0,\"ticks\":\"\"},\"colorscale\":[[0.0,\"#0d0887\"],[0.1111111111111111,\"#46039f\"],[0.2222222222222222,\"#7201a8\"],[0.3333333333333333,\"#9c179e\"],[0.4444444444444444,\"#bd3786\"],[0.5555555555555556,\"#d8576b\"],[0.6666666666666666,\"#ed7953\"],[0.7777777777777778,\"#fb9f3a\"],[0.8888888888888888,\"#fdca26\"],[1.0,\"#f0f921\"]]}],\"heatmapgl\":[{\"type\":\"heatmapgl\",\"colorbar\":{\"outlinewidth\":0,\"ticks\":\"\"},\"colorscale\":[[0.0,\"#0d0887\"],[0.1111111111111111,\"#46039f\"],[0.2222222222222222,\"#7201a8\"],[0.3333333333333333,\"#9c179e\"],[0.4444444444444444,\"#bd3786\"],[0.5555555555555556,\"#d8576b\"],[0.6666666666666666,\"#ed7953\"],[0.7777777777777778,\"#fb9f3a\"],[0.8888888888888888,\"#fdca26\"],[1.0,\"#f0f921\"]]}],\"contourcarpet\":[{\"type\":\"contourcarpet\",\"colorbar\":{\"outlinewidth\":0,\"ticks\":\"\"}}],\"contour\":[{\"type\":\"contour\",\"colorbar\":{\"outlinewidth\":0,\"ticks\":\"\"},\"colorscale\":[[0.0,\"#0d0887\"],[0.1111111111111111,\"#46039f\"],[0.2222222222222222,\"#7201a8\"],[0.3333333333333333,\"#9c179e\"],[0.4444444444444444,\"#bd3786\"],[0.5555555555555556,\"#d8576b\"],[0.6666666666666666,\"#ed7953\"],[0.7777777777777778,\"#fb9f3a\"],[0.8888888888888888,\"#fdca26\"],[1.0,\"#f0f921\"]]}],\"surface\":[{\"type\":\"surface\",\"colorbar\":{\"outlinewidth\":0,\"ticks\":\"\"},\"colorscale\":[[0.0,\"#0d0887\"],[0.1111111111111111,\"#46039f\"],[0.2222222222222222,\"#7201a8\"],[0.3333333333333333,\"#9c179e\"],[0.4444444444444444,\"#bd3786\"],[0.5555555555555556,\"#d8576b\"],[0.6666666666666666,\"#ed7953\"],[0.7777777777777778,\"#fb9f3a\"],[0.8888888888888888,\"#fdca26\"],[1.0,\"#f0f921\"]]}],\"mesh3d\":[{\"type\":\"mesh3d\",\"colorbar\":{\"outlinewidth\":0,\"ticks\":\"\"}}],\"scatter\":[{\"fillpattern\":{\"fillmode\":\"overlay\",\"size\":10,\"solidity\":0.2},\"type\":\"scatter\"}],\"parcoords\":[{\"type\":\"parcoords\",\"line\":{\"colorbar\":{\"outlinewidth\":0,\"ticks\":\"\"}}}],\"scatterpolargl\":[{\"type\":\"scatterpolargl\",\"marker\":{\"colorbar\":{\"outlinewidth\":0,\"ticks\":\"\"}}}],\"bar\":[{\"error_x\":{\"color\":\"#2a3f5f\"},\"error_y\":{\"color\":\"#2a3f5f\"},\"marker\":{\"line\":{\"color\":\"#E5ECF6\",\"width\":0.5},\"pattern\":{\"fillmode\":\"overlay\",\"size\":10,\"solidity\":0.2}},\"type\":\"bar\"}],\"scattergeo\":[{\"type\":\"scattergeo\",\"marker\":{\"colorbar\":{\"outlinewidth\":0,\"ticks\":\"\"}}}],\"scatterpolar\":[{\"type\":\"scatterpolar\",\"marker\":{\"colorbar\":{\"outlinewidth\":0,\"ticks\":\"\"}}}],\"histogram\":[{\"marker\":{\"pattern\":{\"fillmode\":\"overlay\",\"size\":10,\"solidity\":0.2}},\"type\":\"histogram\"}],\"scattergl\":[{\"type\":\"scattergl\",\"marker\":{\"colorbar\":{\"outlinewidth\":0,\"ticks\":\"\"}}}],\"scatter3d\":[{\"type\":\"scatter3d\",\"line\":{\"colorbar\":{\"outlinewidth\":0,\"ticks\":\"\"}},\"marker\":{\"colorbar\":{\"outlinewidth\":0,\"ticks\":\"\"}}}],\"scattermapbox\":[{\"type\":\"scattermapbox\",\"marker\":{\"colorbar\":{\"outlinewidth\":0,\"ticks\":\"\"}}}],\"scatterternary\":[{\"type\":\"scatterternary\",\"marker\":{\"colorbar\":{\"outlinewidth\":0,\"ticks\":\"\"}}}],\"scattercarpet\":[{\"type\":\"scattercarpet\",\"marker\":{\"colorbar\":{\"outlinewidth\":0,\"ticks\":\"\"}}}],\"carpet\":[{\"aaxis\":{\"endlinecolor\":\"#2a3f5f\",\"gridcolor\":\"white\",\"linecolor\":\"white\",\"minorgridcolor\":\"white\",\"startlinecolor\":\"#2a3f5f\"},\"baxis\":{\"endlinecolor\":\"#2a3f5f\",\"gridcolor\":\"white\",\"linecolor\":\"white\",\"minorgridcolor\":\"white\",\"startlinecolor\":\"#2a3f5f\"},\"type\":\"carpet\"}],\"table\":[{\"cells\":{\"fill\":{\"color\":\"#EBF0F8\"},\"line\":{\"color\":\"white\"}},\"header\":{\"fill\":{\"color\":\"#C8D4E3\"},\"line\":{\"color\":\"white\"}},\"type\":\"table\"}],\"barpolar\":[{\"marker\":{\"line\":{\"color\":\"#E5ECF6\",\"width\":0.5},\"pattern\":{\"fillmode\":\"overlay\",\"size\":10,\"solidity\":0.2}},\"type\":\"barpolar\"}],\"pie\":[{\"automargin\":true,\"type\":\"pie\"}]},\"layout\":{\"autotypenumbers\":\"strict\",\"colorway\":[\"#636efa\",\"#EF553B\",\"#00cc96\",\"#ab63fa\",\"#FFA15A\",\"#19d3f3\",\"#FF6692\",\"#B6E880\",\"#FF97FF\",\"#FECB52\"],\"font\":{\"color\":\"#2a3f5f\"},\"hovermode\":\"closest\",\"hoverlabel\":{\"align\":\"left\"},\"paper_bgcolor\":\"white\",\"plot_bgcolor\":\"#E5ECF6\",\"polar\":{\"bgcolor\":\"#E5ECF6\",\"angularaxis\":{\"gridcolor\":\"white\",\"linecolor\":\"white\",\"ticks\":\"\"},\"radialaxis\":{\"gridcolor\":\"white\",\"linecolor\":\"white\",\"ticks\":\"\"}},\"ternary\":{\"bgcolor\":\"#E5ECF6\",\"aaxis\":{\"gridcolor\":\"white\",\"linecolor\":\"white\",\"ticks\":\"\"},\"baxis\":{\"gridcolor\":\"white\",\"linecolor\":\"white\",\"ticks\":\"\"},\"caxis\":{\"gridcolor\":\"white\",\"linecolor\":\"white\",\"ticks\":\"\"}},\"coloraxis\":{\"colorbar\":{\"outlinewidth\":0,\"ticks\":\"\"}},\"colorscale\":{\"sequential\":[[0.0,\"#0d0887\"],[0.1111111111111111,\"#46039f\"],[0.2222222222222222,\"#7201a8\"],[0.3333333333333333,\"#9c179e\"],[0.4444444444444444,\"#bd3786\"],[0.5555555555555556,\"#d8576b\"],[0.6666666666666666,\"#ed7953\"],[0.7777777777777778,\"#fb9f3a\"],[0.8888888888888888,\"#fdca26\"],[1.0,\"#f0f921\"]],\"sequentialminus\":[[0.0,\"#0d0887\"],[0.1111111111111111,\"#46039f\"],[0.2222222222222222,\"#7201a8\"],[0.3333333333333333,\"#9c179e\"],[0.4444444444444444,\"#bd3786\"],[0.5555555555555556,\"#d8576b\"],[0.6666666666666666,\"#ed7953\"],[0.7777777777777778,\"#fb9f3a\"],[0.8888888888888888,\"#fdca26\"],[1.0,\"#f0f921\"]],\"diverging\":[[0,\"#8e0152\"],[0.1,\"#c51b7d\"],[0.2,\"#de77ae\"],[0.3,\"#f1b6da\"],[0.4,\"#fde0ef\"],[0.5,\"#f7f7f7\"],[0.6,\"#e6f5d0\"],[0.7,\"#b8e186\"],[0.8,\"#7fbc41\"],[0.9,\"#4d9221\"],[1,\"#276419\"]]},\"xaxis\":{\"gridcolor\":\"white\",\"linecolor\":\"white\",\"ticks\":\"\",\"title\":{\"standoff\":15},\"zerolinecolor\":\"white\",\"automargin\":true,\"zerolinewidth\":2},\"yaxis\":{\"gridcolor\":\"white\",\"linecolor\":\"white\",\"ticks\":\"\",\"title\":{\"standoff\":15},\"zerolinecolor\":\"white\",\"automargin\":true,\"zerolinewidth\":2},\"scene\":{\"xaxis\":{\"backgroundcolor\":\"#E5ECF6\",\"gridcolor\":\"white\",\"linecolor\":\"white\",\"showbackground\":true,\"ticks\":\"\",\"zerolinecolor\":\"white\",\"gridwidth\":2},\"yaxis\":{\"backgroundcolor\":\"#E5ECF6\",\"gridcolor\":\"white\",\"linecolor\":\"white\",\"showbackground\":true,\"ticks\":\"\",\"zerolinecolor\":\"white\",\"gridwidth\":2},\"zaxis\":{\"backgroundcolor\":\"#E5ECF6\",\"gridcolor\":\"white\",\"linecolor\":\"white\",\"showbackground\":true,\"ticks\":\"\",\"zerolinecolor\":\"white\",\"gridwidth\":2}},\"shapedefaults\":{\"line\":{\"color\":\"#2a3f5f\"}},\"annotationdefaults\":{\"arrowcolor\":\"#2a3f5f\",\"arrowhead\":0,\"arrowwidth\":1},\"geo\":{\"bgcolor\":\"white\",\"landcolor\":\"#E5ECF6\",\"subunitcolor\":\"white\",\"showland\":true,\"showlakes\":true,\"lakecolor\":\"white\"},\"title\":{\"x\":0.05},\"mapbox\":{\"style\":\"light\"}}},\"xaxis\":{\"rangeslider\":{\"visible\":false},\"title\":{\"text\":\"Date\"}},\"title\":{\"text\":\"Ethereum (ETH-USD) Heikin-Ashi Candlestick Chart with Trade Signals\"},\"yaxis\":{\"title\":{\"text\":\"Price (USD)\"}}},                        {\"responsive\": true}                    ).then(function(){\n",
              "                            \n",
              "var gd = document.getElementById('07c6f030-417b-4cb6-9d0f-9f0b5b0ccc99');\n",
              "var x = new MutationObserver(function (mutations, observer) {{\n",
              "        var display = window.getComputedStyle(gd).display;\n",
              "        if (!display || display === 'none') {{\n",
              "            console.log([gd, 'removed!']);\n",
              "            Plotly.purge(gd);\n",
              "            observer.disconnect();\n",
              "        }}\n",
              "}});\n",
              "\n",
              "// Listen for the removal of the full notebook cells\n",
              "var notebookContainer = gd.closest('#notebook-container');\n",
              "if (notebookContainer) {{\n",
              "    x.observe(notebookContainer, {childList: true});\n",
              "}}\n",
              "\n",
              "// Listen for the clearing of the current output cell\n",
              "var outputEl = gd.closest('.output');\n",
              "if (outputEl) {{\n",
              "    x.observe(outputEl, {childList: true});\n",
              "}}\n",
              "\n",
              "                        })                };                            </script>        </div>\n",
              "</body>\n",
              "</html>"
            ]
          },
          "metadata": {},
          "output_type": "display_data"
        }
      ],
      "source": [
        "plot_heikin_ashi_with_signals(btc_data,signals['signals'])"
      ]
    },
    {
      "cell_type": "code",
      "execution_count": null,
      "metadata": {
        "id": "1gt9kdezigHm"
      },
      "outputs": [],
      "source": []
    }
  ],
  "metadata": {
    "colab": {
      "provenance": []
    },
    "kernelspec": {
      "display_name": "Python 3",
      "name": "python3"
    },
    "language_info": {
      "name": "python"
    }
  },
  "nbformat": 4,
  "nbformat_minor": 0
}
